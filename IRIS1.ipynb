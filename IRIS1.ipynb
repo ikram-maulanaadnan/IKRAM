{
  "nbformat": 4,
  "nbformat_minor": 0,
  "metadata": {
    "colab": {
      "provenance": [],
      "include_colab_link": true
    },
    "kernelspec": {
      "name": "python3",
      "display_name": "Python 3"
    },
    "language_info": {
      "name": "python"
    }
  },
  "cells": [
    {
      "cell_type": "markdown",
      "metadata": {
        "id": "view-in-github",
        "colab_type": "text"
      },
      "source": [
        "<a href=\"https://colab.research.google.com/github/ikram-maulanaadnan/IKRAM/blob/main/IRIS1.ipynb\" target=\"_parent\"><img src=\"https://colab.research.google.com/assets/colab-badge.svg\" alt=\"Open In Colab\"/></a>"
      ]
    },
    {
      "cell_type": "code",
      "execution_count": null,
      "metadata": {
        "id": "A70OoXuva4XQ",
        "colab": {
          "base_uri": "https://localhost:8080/"
        },
        "outputId": "48c706a3-59a1-4372-cf26-e9e911c6cb43"
      },
      "outputs": [
        {
          "output_type": "stream",
          "name": "stdout",
          "text": [
            "Colab only includes TensorFlow 2.x; %tensorflow_version has no effect.\n"
          ]
        }
      ],
      "source": [
        "%tensorflow_version 2.4"
      ]
    },
    {
      "cell_type": "code",
      "source": [
        "# import necessary python packages\n",
        "import tensorflow as tf\n",
        "import numpy as np\n",
        "import pandas as pd\n",
        "import matplotlib.pyplot as plt"
      ],
      "metadata": {
        "id": "e_goRsNAdOcy"
      },
      "execution_count": null,
      "outputs": []
    },
    {
      "cell_type": "code",
      "source": [
        "tflite_model_name = 'iris'\n",
        "c_model_name = 'iris'"
      ],
      "metadata": {
        "id": "XHdeX4RzbFnY"
      },
      "execution_count": null,
      "outputs": []
    },
    {
      "cell_type": "code",
      "source": [
        "# UNINSTALL numpy versi bermasalah dan install versi kompatibel\n",
        "!pip uninstall -y numpy\n",
        "!pip install numpy==1.26.4 --force-reinstall\n",
        "\n",
        "# Import library setelah memastikan numpy stabil\n",
        "from sklearn.datasets import load_iris\n",
        "from sklearn.preprocessing import OneHotEncoder, StandardScaler\n",
        "import numpy as np\n",
        "\n",
        "# Load dataset IRIS\n",
        "iris = load_iris()\n",
        "x = iris['data']\n",
        "y = iris['target']\n",
        "names = iris['target_names']\n",
        "feature_names = iris['feature_names']\n",
        "\n",
        "# Normalisasi fitur\n",
        "scaler = StandardScaler()\n",
        "X = scaler.fit_transform(x)\n",
        "print(\"Contoh data yang sudah dinormalisasi:\\n\", X[0])\n",
        "\n",
        "# One-Hot Encoding label (opsional, jika dibutuhkan untuk klasifikasi berbasis neural network)\n",
        "enc = OneHotEncoder()\n",
        "Y = enc.fit_transform(y[:, np.newaxis]).toarray()\n",
        "print(\"Contoh label one-hot:\\n\", Y[0])\n"
      ],
      "metadata": {
        "id": "cQBGCrbVdTcj",
        "colab": {
          "base_uri": "https://localhost:8080/"
        },
        "outputId": "d63b26c5-ddf2-4fed-e58a-241373a75678"
      },
      "execution_count": null,
      "outputs": [
        {
          "output_type": "stream",
          "name": "stdout",
          "text": [
            "Found existing installation: numpy 1.26.4\n",
            "Uninstalling numpy-1.26.4:\n",
            "  Successfully uninstalled numpy-1.26.4\n",
            "Collecting numpy==1.26.4\n",
            "  Using cached numpy-1.26.4-cp311-cp311-manylinux_2_17_x86_64.manylinux2014_x86_64.whl.metadata (61 kB)\n",
            "Using cached numpy-1.26.4-cp311-cp311-manylinux_2_17_x86_64.manylinux2014_x86_64.whl (18.3 MB)\n",
            "Installing collected packages: numpy\n",
            "\u001b[31mERROR: pip's dependency resolver does not currently take into account all the packages that are installed. This behaviour is the source of the following dependency conflicts.\n",
            "thinc 8.3.6 requires numpy<3.0.0,>=2.0.0, but you have numpy 1.26.4 which is incompatible.\u001b[0m\u001b[31m\n",
            "\u001b[0mSuccessfully installed numpy-1.26.4\n",
            "Contoh data yang sudah dinormalisasi:\n",
            " [-0.90068117  1.01900435 -1.34022653 -1.3154443 ]\n",
            "Contoh label one-hot:\n",
            " [1. 0. 0.]\n"
          ]
        }
      ]
    },
    {
      "cell_type": "code",
      "source": [
        "# Divide the data into train and test set (70:30)\n",
        "from sklearn.model_selection import train_test_split\n",
        "X_train, X_test, Y_train, Y_test = train_test_split(X, Y, test_size = 0.3, random_state=42)"
      ],
      "metadata": {
        "id": "gvh064JTd70n"
      },
      "execution_count": null,
      "outputs": []
    },
    {
      "cell_type": "code",
      "source": [
        "print(X_train.shape)\n",
        "print(Y_train.shape)\n",
        "\n",
        "print(X_test.shape)\n",
        "print(Y_test.shape)"
      ],
      "metadata": {
        "id": "fujYVVfAd9nn",
        "colab": {
          "base_uri": "https://localhost:8080/"
        },
        "outputId": "22fc0f6a-8f6e-4754-bb82-58c584840519"
      },
      "execution_count": null,
      "outputs": [
        {
          "output_type": "stream",
          "name": "stdout",
          "text": [
            "(105, 4)\n",
            "(105, 3)\n",
            "(45, 4)\n",
            "(45, 3)\n"
          ]
        }
      ]
    },
    {
      "cell_type": "code",
      "source": [
        "num_classes = Y.shape[1]\n",
        "num_features = X.shape[1]\n",
        "num_classes"
      ],
      "metadata": {
        "id": "YoFjIReleAJM",
        "colab": {
          "base_uri": "https://localhost:8080/"
        },
        "outputId": "73702df4-4450-4019-8db4-c766af1016ad"
      },
      "execution_count": null,
      "outputs": [
        {
          "output_type": "execute_result",
          "data": {
            "text/plain": [
              "3"
            ]
          },
          "metadata": {},
          "execution_count": 24
        }
      ]
    },
    {
      "cell_type": "code",
      "source": [
        "# Model building\n",
        "from keras.models import Sequential\n",
        "from keras.layers import Dense\n",
        "model = Sequential()\n",
        "\n",
        "# 1st hidden layer\n",
        "model.add(Dense(9, input_dim=num_features, activation = 'relu'))   # 4*5 +5 = 25\n",
        "# Output Layer\n",
        "model.add(Dense(num_classes, activation='softmax'))   # 5*3 + 3 = 18\n",
        "model.summary()"
      ],
      "metadata": {
        "id": "wJvsW98QeDKw",
        "colab": {
          "base_uri": "https://localhost:8080/",
          "height": 248
        },
        "outputId": "dddbcb0d-de89-416c-ea2a-4dad97f3bb55"
      },
      "execution_count": null,
      "outputs": [
        {
          "output_type": "stream",
          "name": "stderr",
          "text": [
            "/usr/local/lib/python3.11/dist-packages/keras/src/layers/core/dense.py:87: UserWarning: Do not pass an `input_shape`/`input_dim` argument to a layer. When using Sequential models, prefer using an `Input(shape)` object as the first layer in the model instead.\n",
            "  super().__init__(activity_regularizer=activity_regularizer, **kwargs)\n"
          ]
        },
        {
          "output_type": "display_data",
          "data": {
            "text/plain": [
              "\u001b[1mModel: \"sequential_1\"\u001b[0m\n"
            ],
            "text/html": [
              "<pre style=\"white-space:pre;overflow-x:auto;line-height:normal;font-family:Menlo,'DejaVu Sans Mono',consolas,'Courier New',monospace\"><span style=\"font-weight: bold\">Model: \"sequential_1\"</span>\n",
              "</pre>\n"
            ]
          },
          "metadata": {}
        },
        {
          "output_type": "display_data",
          "data": {
            "text/plain": [
              "┏━━━━━━━━━━━━━━━━━━━━━━━━━━━━━━━━━┳━━━━━━━━━━━━━━━━━━━━━━━━┳━━━━━━━━━━━━━━━┓\n",
              "┃\u001b[1m \u001b[0m\u001b[1mLayer (type)                   \u001b[0m\u001b[1m \u001b[0m┃\u001b[1m \u001b[0m\u001b[1mOutput Shape          \u001b[0m\u001b[1m \u001b[0m┃\u001b[1m \u001b[0m\u001b[1m      Param #\u001b[0m\u001b[1m \u001b[0m┃\n",
              "┡━━━━━━━━━━━━━━━━━━━━━━━━━━━━━━━━━╇━━━━━━━━━━━━━━━━━━━━━━━━╇━━━━━━━━━━━━━━━┩\n",
              "│ dense_2 (\u001b[38;5;33mDense\u001b[0m)                 │ (\u001b[38;5;45mNone\u001b[0m, \u001b[38;5;34m9\u001b[0m)              │            \u001b[38;5;34m45\u001b[0m │\n",
              "├─────────────────────────────────┼────────────────────────┼───────────────┤\n",
              "│ dense_3 (\u001b[38;5;33mDense\u001b[0m)                 │ (\u001b[38;5;45mNone\u001b[0m, \u001b[38;5;34m3\u001b[0m)              │            \u001b[38;5;34m30\u001b[0m │\n",
              "└─────────────────────────────────┴────────────────────────┴───────────────┘\n"
            ],
            "text/html": [
              "<pre style=\"white-space:pre;overflow-x:auto;line-height:normal;font-family:Menlo,'DejaVu Sans Mono',consolas,'Courier New',monospace\">┏━━━━━━━━━━━━━━━━━━━━━━━━━━━━━━━━━┳━━━━━━━━━━━━━━━━━━━━━━━━┳━━━━━━━━━━━━━━━┓\n",
              "┃<span style=\"font-weight: bold\"> Layer (type)                    </span>┃<span style=\"font-weight: bold\"> Output Shape           </span>┃<span style=\"font-weight: bold\">       Param # </span>┃\n",
              "┡━━━━━━━━━━━━━━━━━━━━━━━━━━━━━━━━━╇━━━━━━━━━━━━━━━━━━━━━━━━╇━━━━━━━━━━━━━━━┩\n",
              "│ dense_2 (<span style=\"color: #0087ff; text-decoration-color: #0087ff\">Dense</span>)                 │ (<span style=\"color: #00d7ff; text-decoration-color: #00d7ff\">None</span>, <span style=\"color: #00af00; text-decoration-color: #00af00\">9</span>)              │            <span style=\"color: #00af00; text-decoration-color: #00af00\">45</span> │\n",
              "├─────────────────────────────────┼────────────────────────┼───────────────┤\n",
              "│ dense_3 (<span style=\"color: #0087ff; text-decoration-color: #0087ff\">Dense</span>)                 │ (<span style=\"color: #00d7ff; text-decoration-color: #00d7ff\">None</span>, <span style=\"color: #00af00; text-decoration-color: #00af00\">3</span>)              │            <span style=\"color: #00af00; text-decoration-color: #00af00\">30</span> │\n",
              "└─────────────────────────────────┴────────────────────────┴───────────────┘\n",
              "</pre>\n"
            ]
          },
          "metadata": {}
        },
        {
          "output_type": "display_data",
          "data": {
            "text/plain": [
              "\u001b[1m Total params: \u001b[0m\u001b[38;5;34m75\u001b[0m (300.00 B)\n"
            ],
            "text/html": [
              "<pre style=\"white-space:pre;overflow-x:auto;line-height:normal;font-family:Menlo,'DejaVu Sans Mono',consolas,'Courier New',monospace\"><span style=\"font-weight: bold\"> Total params: </span><span style=\"color: #00af00; text-decoration-color: #00af00\">75</span> (300.00 B)\n",
              "</pre>\n"
            ]
          },
          "metadata": {}
        },
        {
          "output_type": "display_data",
          "data": {
            "text/plain": [
              "\u001b[1m Trainable params: \u001b[0m\u001b[38;5;34m75\u001b[0m (300.00 B)\n"
            ],
            "text/html": [
              "<pre style=\"white-space:pre;overflow-x:auto;line-height:normal;font-family:Menlo,'DejaVu Sans Mono',consolas,'Courier New',monospace\"><span style=\"font-weight: bold\"> Trainable params: </span><span style=\"color: #00af00; text-decoration-color: #00af00\">75</span> (300.00 B)\n",
              "</pre>\n"
            ]
          },
          "metadata": {}
        },
        {
          "output_type": "display_data",
          "data": {
            "text/plain": [
              "\u001b[1m Non-trainable params: \u001b[0m\u001b[38;5;34m0\u001b[0m (0.00 B)\n"
            ],
            "text/html": [
              "<pre style=\"white-space:pre;overflow-x:auto;line-height:normal;font-family:Menlo,'DejaVu Sans Mono',consolas,'Courier New',monospace\"><span style=\"font-weight: bold\"> Non-trainable params: </span><span style=\"color: #00af00; text-decoration-color: #00af00\">0</span> (0.00 B)\n",
              "</pre>\n"
            ]
          },
          "metadata": {}
        }
      ]
    },
    {
      "cell_type": "code",
      "source": [
        "# Compilation\n",
        "model.compile(loss='categorical_crossentropy', metrics=['accuracy'], optimizer = 'adam')"
      ],
      "metadata": {
        "id": "vI1EEDGxeIA_"
      },
      "execution_count": null,
      "outputs": []
    },
    {
      "cell_type": "code",
      "source": [
        "# Train model\n",
        "model.fit(X_train, Y_train, epochs=150, batch_size=100, validation_data=(X, Y))"
      ],
      "metadata": {
        "id": "4UdxDkPUeIjp",
        "colab": {
          "base_uri": "https://localhost:8080/"
        },
        "outputId": "8dd435fb-0ddf-46cd-8eee-3d3add352d25"
      },
      "execution_count": null,
      "outputs": [
        {
          "output_type": "stream",
          "name": "stdout",
          "text": [
            "Epoch 1/150\n",
            "\u001b[1m2/2\u001b[0m \u001b[32m━━━━━━━━━━━━━━━━━━━━\u001b[0m\u001b[37m\u001b[0m \u001b[1m2s\u001b[0m 278ms/step - accuracy: 0.4775 - loss: 1.1670 - val_accuracy: 0.5267 - val_loss: 1.1045\n",
            "Epoch 2/150\n",
            "\u001b[1m2/2\u001b[0m \u001b[32m━━━━━━━━━━━━━━━━━━━━\u001b[0m\u001b[37m\u001b[0m \u001b[1m0s\u001b[0m 86ms/step - accuracy: 0.4805 - loss: 1.1607 - val_accuracy: 0.5267 - val_loss: 1.0943\n",
            "Epoch 3/150\n",
            "\u001b[1m2/2\u001b[0m \u001b[32m━━━━━━━━━━━━━━━━━━━━\u001b[0m\u001b[37m\u001b[0m \u001b[1m0s\u001b[0m 215ms/step - accuracy: 0.4871 - loss: 1.1421 - val_accuracy: 0.5333 - val_loss: 1.0850\n",
            "Epoch 4/150\n",
            "\u001b[1m2/2\u001b[0m \u001b[32m━━━━━━━━━━━━━━━━━━━━\u001b[0m\u001b[37m\u001b[0m \u001b[1m0s\u001b[0m 151ms/step - accuracy: 0.4968 - loss: 1.1313 - val_accuracy: 0.5400 - val_loss: 1.0758\n",
            "Epoch 5/150\n",
            "\u001b[1m2/2\u001b[0m \u001b[32m━━━━━━━━━━━━━━━━━━━━\u001b[0m\u001b[37m\u001b[0m \u001b[1m0s\u001b[0m 132ms/step - accuracy: 0.5098 - loss: 1.1171 - val_accuracy: 0.5400 - val_loss: 1.0664\n",
            "Epoch 6/150\n",
            "\u001b[1m2/2\u001b[0m \u001b[32m━━━━━━━━━━━━━━━━━━━━\u001b[0m\u001b[37m\u001b[0m \u001b[1m0s\u001b[0m 263ms/step - accuracy: 0.5032 - loss: 1.1179 - val_accuracy: 0.5400 - val_loss: 1.0569\n",
            "Epoch 7/150\n",
            "\u001b[1m2/2\u001b[0m \u001b[32m━━━━━━━━━━━━━━━━━━━━\u001b[0m\u001b[37m\u001b[0m \u001b[1m0s\u001b[0m 122ms/step - accuracy: 0.5032 - loss: 1.1069 - val_accuracy: 0.5400 - val_loss: 1.0473\n",
            "Epoch 8/150\n",
            "\u001b[1m2/2\u001b[0m \u001b[32m━━━━━━━━━━━━━━━━━━━━\u001b[0m\u001b[37m\u001b[0m \u001b[1m0s\u001b[0m 210ms/step - accuracy: 0.5065 - loss: 1.0921 - val_accuracy: 0.5400 - val_loss: 1.0377\n",
            "Epoch 9/150\n",
            "\u001b[1m2/2\u001b[0m \u001b[32m━━━━━━━━━━━━━━━━━━━━\u001b[0m\u001b[37m\u001b[0m \u001b[1m0s\u001b[0m 145ms/step - accuracy: 0.5032 - loss: 1.0898 - val_accuracy: 0.5400 - val_loss: 1.0283\n",
            "Epoch 10/150\n",
            "\u001b[1m2/2\u001b[0m \u001b[32m━━━━━━━━━━━━━━━━━━━━\u001b[0m\u001b[37m\u001b[0m \u001b[1m0s\u001b[0m 314ms/step - accuracy: 0.4998 - loss: 1.0776 - val_accuracy: 0.5400 - val_loss: 1.0194\n",
            "Epoch 11/150\n",
            "\u001b[1m2/2\u001b[0m \u001b[32m━━━━━━━━━━━━━━━━━━━━\u001b[0m\u001b[37m\u001b[0m \u001b[1m0s\u001b[0m 323ms/step - accuracy: 0.5065 - loss: 1.0653 - val_accuracy: 0.5400 - val_loss: 1.0107\n",
            "Epoch 12/150\n",
            "\u001b[1m2/2\u001b[0m \u001b[32m━━━━━━━━━━━━━━━━━━━━\u001b[0m\u001b[37m\u001b[0m \u001b[1m0s\u001b[0m 276ms/step - accuracy: 0.5098 - loss: 1.0528 - val_accuracy: 0.5400 - val_loss: 1.0021\n",
            "Epoch 13/150\n",
            "\u001b[1m2/2\u001b[0m \u001b[32m━━━━━━━━━━━━━━━━━━━━\u001b[0m\u001b[37m\u001b[0m \u001b[1m0s\u001b[0m 305ms/step - accuracy: 0.5065 - loss: 1.0510 - val_accuracy: 0.5400 - val_loss: 0.9936\n",
            "Epoch 14/150\n",
            "\u001b[1m2/2\u001b[0m \u001b[32m━━━━━━━━━━━━━━━━━━━━\u001b[0m\u001b[37m\u001b[0m \u001b[1m0s\u001b[0m 149ms/step - accuracy: 0.5065 - loss: 1.0387 - val_accuracy: 0.5400 - val_loss: 0.9852\n",
            "Epoch 15/150\n",
            "\u001b[1m2/2\u001b[0m \u001b[32m━━━━━━━━━━━━━━━━━━━━\u001b[0m\u001b[37m\u001b[0m \u001b[1m0s\u001b[0m 246ms/step - accuracy: 0.4965 - loss: 1.0377 - val_accuracy: 0.5333 - val_loss: 0.9771\n",
            "Epoch 16/150\n",
            "\u001b[1m2/2\u001b[0m \u001b[32m━━━━━━━━━━━━━━━━━━━━\u001b[0m\u001b[37m\u001b[0m \u001b[1m0s\u001b[0m 156ms/step - accuracy: 0.5002 - loss: 1.0169 - val_accuracy: 0.5333 - val_loss: 0.9693\n",
            "Epoch 17/150\n",
            "\u001b[1m2/2\u001b[0m \u001b[32m━━━━━━━━━━━━━━━━━━━━\u001b[0m\u001b[37m\u001b[0m \u001b[1m0s\u001b[0m 283ms/step - accuracy: 0.5002 - loss: 1.0134 - val_accuracy: 0.5333 - val_loss: 0.9615\n",
            "Epoch 18/150\n",
            "\u001b[1m2/2\u001b[0m \u001b[32m━━━━━━━━━━━━━━━━━━━━\u001b[0m\u001b[37m\u001b[0m \u001b[1m0s\u001b[0m 138ms/step - accuracy: 0.4968 - loss: 1.0031 - val_accuracy: 0.5333 - val_loss: 0.9542\n",
            "Epoch 19/150\n",
            "\u001b[1m2/2\u001b[0m \u001b[32m━━━━━━━━━━━━━━━━━━━━\u001b[0m\u001b[37m\u001b[0m \u001b[1m0s\u001b[0m 173ms/step - accuracy: 0.5035 - loss: 0.9915 - val_accuracy: 0.5333 - val_loss: 0.9470\n",
            "Epoch 20/150\n",
            "\u001b[1m2/2\u001b[0m \u001b[32m━━━━━━━━━━━━━━━━━━━━\u001b[0m\u001b[37m\u001b[0m \u001b[1m0s\u001b[0m 139ms/step - accuracy: 0.4935 - loss: 0.9928 - val_accuracy: 0.5400 - val_loss: 0.9397\n",
            "Epoch 21/150\n",
            "\u001b[1m2/2\u001b[0m \u001b[32m━━━━━━━━━━━━━━━━━━━━\u001b[0m\u001b[37m\u001b[0m \u001b[1m0s\u001b[0m 167ms/step - accuracy: 0.5098 - loss: 0.9816 - val_accuracy: 0.5400 - val_loss: 0.9324\n",
            "Epoch 22/150\n",
            "\u001b[1m2/2\u001b[0m \u001b[32m━━━━━━━━━━━━━━━━━━━━\u001b[0m\u001b[37m\u001b[0m \u001b[1m0s\u001b[0m 252ms/step - accuracy: 0.5032 - loss: 0.9780 - val_accuracy: 0.5400 - val_loss: 0.9249\n",
            "Epoch 23/150\n",
            "\u001b[1m2/2\u001b[0m \u001b[32m━━━━━━━━━━━━━━━━━━━━\u001b[0m\u001b[37m\u001b[0m \u001b[1m0s\u001b[0m 136ms/step - accuracy: 0.5065 - loss: 0.9624 - val_accuracy: 0.5400 - val_loss: 0.9175\n",
            "Epoch 24/150\n",
            "\u001b[1m2/2\u001b[0m \u001b[32m━━━━━━━━━━━━━━━━━━━━\u001b[0m\u001b[37m\u001b[0m \u001b[1m0s\u001b[0m 288ms/step - accuracy: 0.4998 - loss: 0.9651 - val_accuracy: 0.5400 - val_loss: 0.9102\n",
            "Epoch 25/150\n",
            "\u001b[1m2/2\u001b[0m \u001b[32m━━━━━━━━━━━━━━━━━━━━\u001b[0m\u001b[37m\u001b[0m \u001b[1m1s\u001b[0m 258ms/step - accuracy: 0.5098 - loss: 0.9516 - val_accuracy: 0.5400 - val_loss: 0.9032\n",
            "Epoch 26/150\n",
            "\u001b[1m2/2\u001b[0m \u001b[32m━━━━━━━━━━━━━━━━━━━━\u001b[0m\u001b[37m\u001b[0m \u001b[1m0s\u001b[0m 262ms/step - accuracy: 0.4998 - loss: 0.9505 - val_accuracy: 0.5400 - val_loss: 0.8966\n",
            "Epoch 27/150\n",
            "\u001b[1m2/2\u001b[0m \u001b[32m━━━━━━━━━━━━━━━━━━━━\u001b[0m\u001b[37m\u001b[0m \u001b[1m0s\u001b[0m 242ms/step - accuracy: 0.5032 - loss: 0.9416 - val_accuracy: 0.5400 - val_loss: 0.8903\n",
            "Epoch 28/150\n",
            "\u001b[1m2/2\u001b[0m \u001b[32m━━━━━━━━━━━━━━━━━━━━\u001b[0m\u001b[37m\u001b[0m \u001b[1m0s\u001b[0m 243ms/step - accuracy: 0.5032 - loss: 0.9345 - val_accuracy: 0.5400 - val_loss: 0.8842\n",
            "Epoch 29/150\n",
            "\u001b[1m2/2\u001b[0m \u001b[32m━━━━━━━━━━━━━━━━━━━━\u001b[0m\u001b[37m\u001b[0m \u001b[1m1s\u001b[0m 236ms/step - accuracy: 0.5032 - loss: 0.9272 - val_accuracy: 0.5400 - val_loss: 0.8781\n",
            "Epoch 30/150\n",
            "\u001b[1m2/2\u001b[0m \u001b[32m━━━━━━━━━━━━━━━━━━━━\u001b[0m\u001b[37m\u001b[0m \u001b[1m0s\u001b[0m 320ms/step - accuracy: 0.5098 - loss: 0.9154 - val_accuracy: 0.5400 - val_loss: 0.8720\n",
            "Epoch 31/150\n",
            "\u001b[1m2/2\u001b[0m \u001b[32m━━━━━━━━━━━━━━━━━━━━\u001b[0m\u001b[37m\u001b[0m \u001b[1m1s\u001b[0m 481ms/step - accuracy: 0.4998 - loss: 0.9119 - val_accuracy: 0.5400 - val_loss: 0.8660\n",
            "Epoch 32/150\n",
            "\u001b[1m2/2\u001b[0m \u001b[32m━━━━━━━━━━━━━━━━━━━━\u001b[0m\u001b[37m\u001b[0m \u001b[1m0s\u001b[0m 193ms/step - accuracy: 0.5065 - loss: 0.9056 - val_accuracy: 0.5400 - val_loss: 0.8602\n",
            "Epoch 33/150\n",
            "\u001b[1m2/2\u001b[0m \u001b[32m━━━━━━━━━━━━━━━━━━━━\u001b[0m\u001b[37m\u001b[0m \u001b[1m0s\u001b[0m 249ms/step - accuracy: 0.4998 - loss: 0.9050 - val_accuracy: 0.5400 - val_loss: 0.8545\n",
            "Epoch 34/150\n",
            "\u001b[1m2/2\u001b[0m \u001b[32m━━━━━━━━━━━━━━━━━━━━\u001b[0m\u001b[37m\u001b[0m \u001b[1m0s\u001b[0m 235ms/step - accuracy: 0.5098 - loss: 0.8917 - val_accuracy: 0.5400 - val_loss: 0.8487\n",
            "Epoch 35/150\n",
            "\u001b[1m2/2\u001b[0m \u001b[32m━━━━━━━━━━━━━━━━━━━━\u001b[0m\u001b[37m\u001b[0m \u001b[1m0s\u001b[0m 252ms/step - accuracy: 0.5065 - loss: 0.8838 - val_accuracy: 0.5400 - val_loss: 0.8428\n",
            "Epoch 36/150\n",
            "\u001b[1m2/2\u001b[0m \u001b[32m━━━━━━━━━━━━━━━━━━━━\u001b[0m\u001b[37m\u001b[0m \u001b[1m0s\u001b[0m 140ms/step - accuracy: 0.5098 - loss: 0.8820 - val_accuracy: 0.5400 - val_loss: 0.8368\n",
            "Epoch 37/150\n",
            "\u001b[1m2/2\u001b[0m \u001b[32m━━━━━━━━━━━━━━━━━━━━\u001b[0m\u001b[37m\u001b[0m \u001b[1m0s\u001b[0m 226ms/step - accuracy: 0.5065 - loss: 0.8767 - val_accuracy: 0.5400 - val_loss: 0.8308\n",
            "Epoch 38/150\n",
            "\u001b[1m2/2\u001b[0m \u001b[32m━━━━━━━━━━━━━━━━━━━━\u001b[0m\u001b[37m\u001b[0m \u001b[1m1s\u001b[0m 126ms/step - accuracy: 0.5032 - loss: 0.8723 - val_accuracy: 0.5267 - val_loss: 0.8250\n",
            "Epoch 39/150\n",
            "\u001b[1m2/2\u001b[0m \u001b[32m━━━━━━━━━━━━━━━━━━━━\u001b[0m\u001b[37m\u001b[0m \u001b[1m0s\u001b[0m 138ms/step - accuracy: 0.4805 - loss: 0.8683 - val_accuracy: 0.5200 - val_loss: 0.8193\n",
            "Epoch 40/150\n",
            "\u001b[1m2/2\u001b[0m \u001b[32m━━━━━━━━━━━━━━━━━━━━\u001b[0m\u001b[37m\u001b[0m \u001b[1m0s\u001b[0m 155ms/step - accuracy: 0.4708 - loss: 0.8581 - val_accuracy: 0.5267 - val_loss: 0.8139\n",
            "Epoch 41/150\n",
            "\u001b[1m2/2\u001b[0m \u001b[32m━━━━━━━━━━━━━━━━━━━━\u001b[0m\u001b[37m\u001b[0m \u001b[1m0s\u001b[0m 154ms/step - accuracy: 0.4838 - loss: 0.8527 - val_accuracy: 0.5267 - val_loss: 0.8084\n",
            "Epoch 42/150\n",
            "\u001b[1m2/2\u001b[0m \u001b[32m━━━━━━━━━━━━━━━━━━━━\u001b[0m\u001b[37m\u001b[0m \u001b[1m0s\u001b[0m 176ms/step - accuracy: 0.4905 - loss: 0.8458 - val_accuracy: 0.5267 - val_loss: 0.8028\n",
            "Epoch 43/150\n",
            "\u001b[1m2/2\u001b[0m \u001b[32m━━━━━━━━━━━━━━━━━━━━\u001b[0m\u001b[37m\u001b[0m \u001b[1m0s\u001b[0m 233ms/step - accuracy: 0.4871 - loss: 0.8371 - val_accuracy: 0.5267 - val_loss: 0.7970\n",
            "Epoch 44/150\n",
            "\u001b[1m2/2\u001b[0m \u001b[32m━━━━━━━━━━━━━━━━━━━━\u001b[0m\u001b[37m\u001b[0m \u001b[1m0s\u001b[0m 276ms/step - accuracy: 0.4938 - loss: 0.8315 - val_accuracy: 0.5200 - val_loss: 0.7911\n",
            "Epoch 45/150\n",
            "\u001b[1m2/2\u001b[0m \u001b[32m━━━━━━━━━━━━━━━━━━━━\u001b[0m\u001b[37m\u001b[0m \u001b[1m0s\u001b[0m 305ms/step - accuracy: 0.4775 - loss: 0.8301 - val_accuracy: 0.5000 - val_loss: 0.7852\n",
            "Epoch 46/150\n",
            "\u001b[1m2/2\u001b[0m \u001b[32m━━━━━━━━━━━━━━━━━━━━\u001b[0m\u001b[37m\u001b[0m \u001b[1m1s\u001b[0m 223ms/step - accuracy: 0.4648 - loss: 0.8148 - val_accuracy: 0.4867 - val_loss: 0.7795\n",
            "Epoch 47/150\n",
            "\u001b[1m2/2\u001b[0m \u001b[32m━━━━━━━━━━━━━━━━━━━━\u001b[0m\u001b[37m\u001b[0m \u001b[1m0s\u001b[0m 250ms/step - accuracy: 0.4484 - loss: 0.8178 - val_accuracy: 0.4867 - val_loss: 0.7738\n",
            "Epoch 48/150\n",
            "\u001b[1m2/2\u001b[0m \u001b[32m━━━━━━━━━━━━━━━━━━━━\u001b[0m\u001b[37m\u001b[0m \u001b[1m1s\u001b[0m 198ms/step - accuracy: 0.4421 - loss: 0.8089 - val_accuracy: 0.4800 - val_loss: 0.7682\n",
            "Epoch 49/150\n",
            "\u001b[1m2/2\u001b[0m \u001b[32m━━━━━━━━━━━━━━━━━━━━\u001b[0m\u001b[37m\u001b[0m \u001b[1m0s\u001b[0m 130ms/step - accuracy: 0.4290 - loss: 0.8010 - val_accuracy: 0.4533 - val_loss: 0.7628\n",
            "Epoch 50/150\n",
            "\u001b[1m2/2\u001b[0m \u001b[32m━━━━━━━━━━━━━━━━━━━━\u001b[0m\u001b[37m\u001b[0m \u001b[1m0s\u001b[0m 171ms/step - accuracy: 0.4063 - loss: 0.7996 - val_accuracy: 0.4667 - val_loss: 0.7579\n",
            "Epoch 51/150\n",
            "\u001b[1m2/2\u001b[0m \u001b[32m━━━━━━━━━━━━━━━━━━━━\u001b[0m\u001b[37m\u001b[0m \u001b[1m0s\u001b[0m 143ms/step - accuracy: 0.4257 - loss: 0.7918 - val_accuracy: 0.4667 - val_loss: 0.7533\n",
            "Epoch 52/150\n",
            "\u001b[1m2/2\u001b[0m \u001b[32m━━━━━━━━━━━━━━━━━━━━\u001b[0m\u001b[37m\u001b[0m \u001b[1m0s\u001b[0m 258ms/step - accuracy: 0.4290 - loss: 0.7877 - val_accuracy: 0.4667 - val_loss: 0.7486\n",
            "Epoch 53/150\n",
            "\u001b[1m2/2\u001b[0m \u001b[32m━━━━━━━━━━━━━━━━━━━━\u001b[0m\u001b[37m\u001b[0m \u001b[1m1s\u001b[0m 178ms/step - accuracy: 0.4224 - loss: 0.7867 - val_accuracy: 0.4600 - val_loss: 0.7438\n",
            "Epoch 54/150\n",
            "\u001b[1m2/2\u001b[0m \u001b[32m━━━━━━━━━━━━━━━━━━━━\u001b[0m\u001b[37m\u001b[0m \u001b[1m0s\u001b[0m 257ms/step - accuracy: 0.4357 - loss: 0.7745 - val_accuracy: 0.4800 - val_loss: 0.7391\n",
            "Epoch 55/150\n",
            "\u001b[1m2/2\u001b[0m \u001b[32m━━━━━━━━━━━━━━━━━━━━\u001b[0m\u001b[37m\u001b[0m \u001b[1m0s\u001b[0m 203ms/step - accuracy: 0.4484 - loss: 0.7727 - val_accuracy: 0.4667 - val_loss: 0.7343\n",
            "Epoch 56/150\n",
            "\u001b[1m2/2\u001b[0m \u001b[32m━━━━━━━━━━━━━━━━━━━━\u001b[0m\u001b[37m\u001b[0m \u001b[1m0s\u001b[0m 280ms/step - accuracy: 0.4257 - loss: 0.7706 - val_accuracy: 0.4733 - val_loss: 0.7296\n",
            "Epoch 57/150\n",
            "\u001b[1m2/2\u001b[0m \u001b[32m━━━━━━━━━━━━━━━━━━━━\u001b[0m\u001b[37m\u001b[0m \u001b[1m0s\u001b[0m 194ms/step - accuracy: 0.4451 - loss: 0.7681 - val_accuracy: 0.4867 - val_loss: 0.7250\n",
            "Epoch 58/150\n",
            "\u001b[1m2/2\u001b[0m \u001b[32m━━━━━━━━━━━━━━━━━━━━\u001b[0m\u001b[37m\u001b[0m \u001b[1m1s\u001b[0m 165ms/step - accuracy: 0.4648 - loss: 0.7517 - val_accuracy: 0.5200 - val_loss: 0.7203\n",
            "Epoch 59/150\n",
            "\u001b[1m2/2\u001b[0m \u001b[32m━━━━━━━━━━━━━━━━━━━━\u001b[0m\u001b[37m\u001b[0m \u001b[1m0s\u001b[0m 196ms/step - accuracy: 0.4838 - loss: 0.7511 - val_accuracy: 0.5267 - val_loss: 0.7157\n",
            "Epoch 60/150\n",
            "\u001b[1m2/2\u001b[0m \u001b[32m━━━━━━━━━━━━━━━━━━━━\u001b[0m\u001b[37m\u001b[0m \u001b[1m0s\u001b[0m 290ms/step - accuracy: 0.4902 - loss: 0.7511 - val_accuracy: 0.5533 - val_loss: 0.7113\n",
            "Epoch 61/150\n",
            "\u001b[1m2/2\u001b[0m \u001b[32m━━━━━━━━━━━━━━━━━━━━\u001b[0m\u001b[37m\u001b[0m \u001b[1m0s\u001b[0m 189ms/step - accuracy: 0.5289 - loss: 0.7463 - val_accuracy: 0.5667 - val_loss: 0.7068\n",
            "Epoch 62/150\n",
            "\u001b[1m2/2\u001b[0m \u001b[32m━━━━━━━━━━━━━━━━━━━━\u001b[0m\u001b[37m\u001b[0m \u001b[1m0s\u001b[0m 340ms/step - accuracy: 0.5419 - loss: 0.7389 - val_accuracy: 0.5867 - val_loss: 0.7024\n",
            "Epoch 63/150\n",
            "\u001b[1m2/2\u001b[0m \u001b[32m━━━━━━━━━━━━━━━━━━━━\u001b[0m\u001b[37m\u001b[0m \u001b[1m0s\u001b[0m 199ms/step - accuracy: 0.5776 - loss: 0.7330 - val_accuracy: 0.6067 - val_loss: 0.6981\n",
            "Epoch 64/150\n",
            "\u001b[1m2/2\u001b[0m \u001b[32m━━━━━━━━━━━━━━━━━━━━\u001b[0m\u001b[37m\u001b[0m \u001b[1m0s\u001b[0m 132ms/step - accuracy: 0.5903 - loss: 0.7264 - val_accuracy: 0.6200 - val_loss: 0.6938\n",
            "Epoch 65/150\n",
            "\u001b[1m2/2\u001b[0m \u001b[32m━━━━━━━━━━━━━━━━━━━━\u001b[0m\u001b[37m\u001b[0m \u001b[1m0s\u001b[0m 128ms/step - accuracy: 0.5967 - loss: 0.7278 - val_accuracy: 0.6333 - val_loss: 0.6897\n",
            "Epoch 66/150\n",
            "\u001b[1m2/2\u001b[0m \u001b[32m━━━━━━━━━━━━━━━━━━━━\u001b[0m\u001b[37m\u001b[0m \u001b[1m0s\u001b[0m 110ms/step - accuracy: 0.6097 - loss: 0.7202 - val_accuracy: 0.6667 - val_loss: 0.6855\n",
            "Epoch 67/150\n",
            "\u001b[1m2/2\u001b[0m \u001b[32m━━━━━━━━━━━━━━━━━━━━\u001b[0m\u001b[37m\u001b[0m \u001b[1m0s\u001b[0m 119ms/step - accuracy: 0.6354 - loss: 0.7159 - val_accuracy: 0.6733 - val_loss: 0.6812\n",
            "Epoch 68/150\n",
            "\u001b[1m2/2\u001b[0m \u001b[32m━━━━━━━━━━━━━━━━━━━━\u001b[0m\u001b[37m\u001b[0m \u001b[1m0s\u001b[0m 136ms/step - accuracy: 0.6451 - loss: 0.7142 - val_accuracy: 0.6867 - val_loss: 0.6770\n",
            "Epoch 69/150\n",
            "\u001b[1m2/2\u001b[0m \u001b[32m━━━━━━━━━━━━━━━━━━━━\u001b[0m\u001b[37m\u001b[0m \u001b[1m0s\u001b[0m 134ms/step - accuracy: 0.6417 - loss: 0.7106 - val_accuracy: 0.6867 - val_loss: 0.6728\n",
            "Epoch 70/150\n",
            "\u001b[1m2/2\u001b[0m \u001b[32m━━━━━━━━━━━━━━━━━━━━\u001b[0m\u001b[37m\u001b[0m \u001b[1m0s\u001b[0m 72ms/step - accuracy: 0.6484 - loss: 0.7050 - val_accuracy: 0.6867 - val_loss: 0.6686\n",
            "Epoch 71/150\n",
            "\u001b[1m2/2\u001b[0m \u001b[32m━━━━━━━━━━━━━━━━━━━━\u001b[0m\u001b[37m\u001b[0m \u001b[1m0s\u001b[0m 76ms/step - accuracy: 0.6451 - loss: 0.6997 - val_accuracy: 0.6867 - val_loss: 0.6644\n",
            "Epoch 72/150\n",
            "\u001b[1m2/2\u001b[0m \u001b[32m━━━━━━━━━━━━━━━━━━━━\u001b[0m\u001b[37m\u001b[0m \u001b[1m0s\u001b[0m 80ms/step - accuracy: 0.6517 - loss: 0.6885 - val_accuracy: 0.7000 - val_loss: 0.6602\n",
            "Epoch 73/150\n",
            "\u001b[1m2/2\u001b[0m \u001b[32m━━━━━━━━━━━━━━━━━━━━\u001b[0m\u001b[37m\u001b[0m \u001b[1m0s\u001b[0m 74ms/step - accuracy: 0.6611 - loss: 0.6967 - val_accuracy: 0.7000 - val_loss: 0.6562\n",
            "Epoch 74/150\n",
            "\u001b[1m2/2\u001b[0m \u001b[32m━━━━━━━━━━━━━━━━━━━━\u001b[0m\u001b[37m\u001b[0m \u001b[1m0s\u001b[0m 101ms/step - accuracy: 0.6644 - loss: 0.6885 - val_accuracy: 0.7000 - val_loss: 0.6524\n",
            "Epoch 75/150\n",
            "\u001b[1m2/2\u001b[0m \u001b[32m━━━━━━━━━━━━━━━━━━━━\u001b[0m\u001b[37m\u001b[0m \u001b[1m0s\u001b[0m 75ms/step - accuracy: 0.6678 - loss: 0.6760 - val_accuracy: 0.7067 - val_loss: 0.6486\n",
            "Epoch 76/150\n",
            "\u001b[1m2/2\u001b[0m \u001b[32m━━━━━━━━━━━━━━━━━━━━\u001b[0m\u001b[37m\u001b[0m \u001b[1m0s\u001b[0m 75ms/step - accuracy: 0.6871 - loss: 0.6753 - val_accuracy: 0.7067 - val_loss: 0.6448\n",
            "Epoch 77/150\n",
            "\u001b[1m2/2\u001b[0m \u001b[32m━━━━━━━━━━━━━━━━━━━━\u001b[0m\u001b[37m\u001b[0m \u001b[1m0s\u001b[0m 77ms/step - accuracy: 0.6805 - loss: 0.6767 - val_accuracy: 0.7067 - val_loss: 0.6410\n",
            "Epoch 78/150\n",
            "\u001b[1m2/2\u001b[0m \u001b[32m━━━━━━━━━━━━━━━━━━━━\u001b[0m\u001b[37m\u001b[0m \u001b[1m0s\u001b[0m 77ms/step - accuracy: 0.6838 - loss: 0.6708 - val_accuracy: 0.7067 - val_loss: 0.6372\n",
            "Epoch 79/150\n",
            "\u001b[1m2/2\u001b[0m \u001b[32m━━━━━━━━━━━━━━━━━━━━\u001b[0m\u001b[37m\u001b[0m \u001b[1m0s\u001b[0m 74ms/step - accuracy: 0.6905 - loss: 0.6606 - val_accuracy: 0.7067 - val_loss: 0.6336\n",
            "Epoch 80/150\n",
            "\u001b[1m2/2\u001b[0m \u001b[32m━━━━━━━━━━━━━━━━━━━━\u001b[0m\u001b[37m\u001b[0m \u001b[1m0s\u001b[0m 74ms/step - accuracy: 0.6838 - loss: 0.6586 - val_accuracy: 0.7000 - val_loss: 0.6300\n",
            "Epoch 81/150\n",
            "\u001b[1m2/2\u001b[0m \u001b[32m━━━━━━━━━━━━━━━━━━━━\u001b[0m\u001b[37m\u001b[0m \u001b[1m0s\u001b[0m 76ms/step - accuracy: 0.6968 - loss: 0.6558 - val_accuracy: 0.7067 - val_loss: 0.6265\n",
            "Epoch 82/150\n",
            "\u001b[1m2/2\u001b[0m \u001b[32m━━━━━━━━━━━━━━━━━━━━\u001b[0m\u001b[37m\u001b[0m \u001b[1m0s\u001b[0m 90ms/step - accuracy: 0.6968 - loss: 0.6535 - val_accuracy: 0.7067 - val_loss: 0.6231\n",
            "Epoch 83/150\n",
            "\u001b[1m2/2\u001b[0m \u001b[32m━━━━━━━━━━━━━━━━━━━━\u001b[0m\u001b[37m\u001b[0m \u001b[1m0s\u001b[0m 73ms/step - accuracy: 0.6968 - loss: 0.6494 - val_accuracy: 0.7067 - val_loss: 0.6199\n",
            "Epoch 84/150\n",
            "\u001b[1m2/2\u001b[0m \u001b[32m━━━━━━━━━━━━━━━━━━━━\u001b[0m\u001b[37m\u001b[0m \u001b[1m0s\u001b[0m 75ms/step - accuracy: 0.6968 - loss: 0.6454 - val_accuracy: 0.7067 - val_loss: 0.6167\n",
            "Epoch 85/150\n",
            "\u001b[1m2/2\u001b[0m \u001b[32m━━━━━━━━━━━━━━━━━━━━\u001b[0m\u001b[37m\u001b[0m \u001b[1m0s\u001b[0m 75ms/step - accuracy: 0.6935 - loss: 0.6400 - val_accuracy: 0.7133 - val_loss: 0.6135\n",
            "Epoch 86/150\n",
            "\u001b[1m2/2\u001b[0m \u001b[32m━━━━━━━━━━━━━━━━━━━━\u001b[0m\u001b[37m\u001b[0m \u001b[1m0s\u001b[0m 79ms/step - accuracy: 0.6935 - loss: 0.6418 - val_accuracy: 0.7200 - val_loss: 0.6104\n",
            "Epoch 87/150\n",
            "\u001b[1m2/2\u001b[0m \u001b[32m━━━━━━━━━━━━━━━━━━━━\u001b[0m\u001b[37m\u001b[0m \u001b[1m0s\u001b[0m 81ms/step - accuracy: 0.7065 - loss: 0.6318 - val_accuracy: 0.7267 - val_loss: 0.6072\n",
            "Epoch 88/150\n",
            "\u001b[1m2/2\u001b[0m \u001b[32m━━━━━━━━━━━━━━━━━━━━\u001b[0m\u001b[37m\u001b[0m \u001b[1m0s\u001b[0m 83ms/step - accuracy: 0.7129 - loss: 0.6370 - val_accuracy: 0.7267 - val_loss: 0.6040\n",
            "Epoch 89/150\n",
            "\u001b[1m2/2\u001b[0m \u001b[32m━━━━━━━━━━━━━━━━━━━━\u001b[0m\u001b[37m\u001b[0m \u001b[1m0s\u001b[0m 78ms/step - accuracy: 0.7195 - loss: 0.6273 - val_accuracy: 0.7333 - val_loss: 0.6009\n",
            "Epoch 90/150\n",
            "\u001b[1m2/2\u001b[0m \u001b[32m━━━━━━━━━━━━━━━━━━━━\u001b[0m\u001b[37m\u001b[0m \u001b[1m0s\u001b[0m 98ms/step - accuracy: 0.7192 - loss: 0.6278 - val_accuracy: 0.7333 - val_loss: 0.5980\n",
            "Epoch 91/150\n",
            "\u001b[1m2/2\u001b[0m \u001b[32m━━━━━━━━━━━━━━━━━━━━\u001b[0m\u001b[37m\u001b[0m \u001b[1m0s\u001b[0m 80ms/step - accuracy: 0.7259 - loss: 0.6232 - val_accuracy: 0.7400 - val_loss: 0.5951\n",
            "Epoch 92/150\n",
            "\u001b[1m2/2\u001b[0m \u001b[32m━━━━━━━━━━━━━━━━━━━━\u001b[0m\u001b[37m\u001b[0m \u001b[1m0s\u001b[0m 76ms/step - accuracy: 0.7225 - loss: 0.6162 - val_accuracy: 0.7533 - val_loss: 0.5923\n",
            "Epoch 93/150\n",
            "\u001b[1m2/2\u001b[0m \u001b[32m━━━━━━━━━━━━━━━━━━━━\u001b[0m\u001b[37m\u001b[0m \u001b[1m0s\u001b[0m 75ms/step - accuracy: 0.7422 - loss: 0.6109 - val_accuracy: 0.7533 - val_loss: 0.5896\n",
            "Epoch 94/150\n",
            "\u001b[1m2/2\u001b[0m \u001b[32m━━━━━━━━━━━━━━━━━━━━\u001b[0m\u001b[37m\u001b[0m \u001b[1m0s\u001b[0m 77ms/step - accuracy: 0.7322 - loss: 0.6142 - val_accuracy: 0.7600 - val_loss: 0.5869\n",
            "Epoch 95/150\n",
            "\u001b[1m2/2\u001b[0m \u001b[32m━━━━━━━━━━━━━━━━━━━━\u001b[0m\u001b[37m\u001b[0m \u001b[1m0s\u001b[0m 73ms/step - accuracy: 0.7419 - loss: 0.6140 - val_accuracy: 0.7600 - val_loss: 0.5842\n",
            "Epoch 96/150\n",
            "\u001b[1m2/2\u001b[0m \u001b[32m━━━━━━━━━━━━━━━━━━━━\u001b[0m\u001b[37m\u001b[0m \u001b[1m0s\u001b[0m 74ms/step - accuracy: 0.7419 - loss: 0.6063 - val_accuracy: 0.7600 - val_loss: 0.5814\n",
            "Epoch 97/150\n",
            "\u001b[1m2/2\u001b[0m \u001b[32m━━━━━━━━━━━━━━━━━━━━\u001b[0m\u001b[37m\u001b[0m \u001b[1m0s\u001b[0m 73ms/step - accuracy: 0.7452 - loss: 0.6038 - val_accuracy: 0.7600 - val_loss: 0.5786\n",
            "Epoch 98/150\n",
            "\u001b[1m2/2\u001b[0m \u001b[32m━━━━━━━━━━━━━━━━━━━━\u001b[0m\u001b[37m\u001b[0m \u001b[1m0s\u001b[0m 93ms/step - accuracy: 0.7519 - loss: 0.5993 - val_accuracy: 0.7667 - val_loss: 0.5761\n",
            "Epoch 99/150\n",
            "\u001b[1m2/2\u001b[0m \u001b[32m━━━━━━━━━━━━━━━━━━━━\u001b[0m\u001b[37m\u001b[0m \u001b[1m0s\u001b[0m 81ms/step - accuracy: 0.7583 - loss: 0.5961 - val_accuracy: 0.7667 - val_loss: 0.5736\n",
            "Epoch 100/150\n",
            "\u001b[1m2/2\u001b[0m \u001b[32m━━━━━━━━━━━━━━━━━━━━\u001b[0m\u001b[37m\u001b[0m \u001b[1m0s\u001b[0m 74ms/step - accuracy: 0.7616 - loss: 0.5908 - val_accuracy: 0.7667 - val_loss: 0.5711\n",
            "Epoch 101/150\n",
            "\u001b[1m2/2\u001b[0m \u001b[32m━━━━━━━━━━━━━━━━━━━━\u001b[0m\u001b[37m\u001b[0m \u001b[1m0s\u001b[0m 76ms/step - accuracy: 0.7516 - loss: 0.5933 - val_accuracy: 0.7667 - val_loss: 0.5687\n",
            "Epoch 102/150\n",
            "\u001b[1m2/2\u001b[0m \u001b[32m━━━━━━━━━━━━━━━━━━━━\u001b[0m\u001b[37m\u001b[0m \u001b[1m0s\u001b[0m 74ms/step - accuracy: 0.7483 - loss: 0.5926 - val_accuracy: 0.7733 - val_loss: 0.5661\n",
            "Epoch 103/150\n",
            "\u001b[1m2/2\u001b[0m \u001b[32m━━━━━━━━━━━━━━━━━━━━\u001b[0m\u001b[37m\u001b[0m \u001b[1m0s\u001b[0m 112ms/step - accuracy: 0.7516 - loss: 0.5879 - val_accuracy: 0.7733 - val_loss: 0.5634\n",
            "Epoch 104/150\n",
            "\u001b[1m2/2\u001b[0m \u001b[32m━━━━━━━━━━━━━━━━━━━━\u001b[0m\u001b[37m\u001b[0m \u001b[1m0s\u001b[0m 74ms/step - accuracy: 0.7483 - loss: 0.5872 - val_accuracy: 0.7733 - val_loss: 0.5606\n",
            "Epoch 105/150\n",
            "\u001b[1m2/2\u001b[0m \u001b[32m━━━━━━━━━━━━━━━━━━━━\u001b[0m\u001b[37m\u001b[0m \u001b[1m0s\u001b[0m 80ms/step - accuracy: 0.7549 - loss: 0.5818 - val_accuracy: 0.7800 - val_loss: 0.5579\n",
            "Epoch 106/150\n",
            "\u001b[1m2/2\u001b[0m \u001b[32m━━━━━━━━━━━━━━━━━━━━\u001b[0m\u001b[37m\u001b[0m \u001b[1m0s\u001b[0m 82ms/step - accuracy: 0.7646 - loss: 0.5802 - val_accuracy: 0.7800 - val_loss: 0.5553\n",
            "Epoch 107/150\n",
            "\u001b[1m2/2\u001b[0m \u001b[32m━━━━━━━━━━━━━━━━━━━━\u001b[0m\u001b[37m\u001b[0m \u001b[1m0s\u001b[0m 77ms/step - accuracy: 0.7613 - loss: 0.5801 - val_accuracy: 0.7800 - val_loss: 0.5529\n",
            "Epoch 108/150\n",
            "\u001b[1m2/2\u001b[0m \u001b[32m━━━━━━━━━━━━━━━━━━━━\u001b[0m\u001b[37m\u001b[0m \u001b[1m0s\u001b[0m 76ms/step - accuracy: 0.7579 - loss: 0.5756 - val_accuracy: 0.7800 - val_loss: 0.5504\n",
            "Epoch 109/150\n",
            "\u001b[1m2/2\u001b[0m \u001b[32m━━━━━━━━━━━━━━━━━━━━\u001b[0m\u001b[37m\u001b[0m \u001b[1m0s\u001b[0m 82ms/step - accuracy: 0.7613 - loss: 0.5751 - val_accuracy: 0.7800 - val_loss: 0.5480\n",
            "Epoch 110/150\n",
            "\u001b[1m2/2\u001b[0m \u001b[32m━━━━━━━━━━━━━━━━━━━━\u001b[0m\u001b[37m\u001b[0m \u001b[1m0s\u001b[0m 78ms/step - accuracy: 0.7579 - loss: 0.5695 - val_accuracy: 0.7867 - val_loss: 0.5455\n",
            "Epoch 111/150\n",
            "\u001b[1m2/2\u001b[0m \u001b[32m━━━━━━━━━━━━━━━━━━━━\u001b[0m\u001b[37m\u001b[0m \u001b[1m0s\u001b[0m 84ms/step - accuracy: 0.7676 - loss: 0.5723 - val_accuracy: 0.7933 - val_loss: 0.5431\n",
            "Epoch 112/150\n",
            "\u001b[1m2/2\u001b[0m \u001b[32m━━━━━━━━━━━━━━━━━━━━\u001b[0m\u001b[37m\u001b[0m \u001b[1m0s\u001b[0m 76ms/step - accuracy: 0.7806 - loss: 0.5639 - val_accuracy: 0.7867 - val_loss: 0.5406\n",
            "Epoch 113/150\n",
            "\u001b[1m2/2\u001b[0m \u001b[32m━━━━━━━━━━━━━━━━━━━━\u001b[0m\u001b[37m\u001b[0m \u001b[1m0s\u001b[0m 91ms/step - accuracy: 0.7743 - loss: 0.5611 - val_accuracy: 0.7800 - val_loss: 0.5382\n",
            "Epoch 114/150\n",
            "\u001b[1m2/2\u001b[0m \u001b[32m━━━━━━━━━━━━━━━━━━━━\u001b[0m\u001b[37m\u001b[0m \u001b[1m0s\u001b[0m 76ms/step - accuracy: 0.7579 - loss: 0.5631 - val_accuracy: 0.7800 - val_loss: 0.5359\n",
            "Epoch 115/150\n",
            "\u001b[1m2/2\u001b[0m \u001b[32m━━━━━━━━━━━━━━━━━━━━\u001b[0m\u001b[37m\u001b[0m \u001b[1m0s\u001b[0m 77ms/step - accuracy: 0.7613 - loss: 0.5598 - val_accuracy: 0.7867 - val_loss: 0.5336\n",
            "Epoch 116/150\n",
            "\u001b[1m2/2\u001b[0m \u001b[32m━━━━━━━━━━━━━━━━━━━━\u001b[0m\u001b[37m\u001b[0m \u001b[1m0s\u001b[0m 75ms/step - accuracy: 0.7676 - loss: 0.5600 - val_accuracy: 0.7867 - val_loss: 0.5314\n",
            "Epoch 117/150\n",
            "\u001b[1m2/2\u001b[0m \u001b[32m━━━━━━━━━━━━━━━━━━━━\u001b[0m\u001b[37m\u001b[0m \u001b[1m0s\u001b[0m 77ms/step - accuracy: 0.7676 - loss: 0.5548 - val_accuracy: 0.7867 - val_loss: 0.5292\n",
            "Epoch 118/150\n",
            "\u001b[1m2/2\u001b[0m \u001b[32m━━━━━━━━━━━━━━━━━━━━\u001b[0m\u001b[37m\u001b[0m \u001b[1m0s\u001b[0m 74ms/step - accuracy: 0.7743 - loss: 0.5470 - val_accuracy: 0.7867 - val_loss: 0.5270\n",
            "Epoch 119/150\n",
            "\u001b[1m2/2\u001b[0m \u001b[32m━━━━━━━━━━━━━━━━━━━━\u001b[0m\u001b[37m\u001b[0m \u001b[1m0s\u001b[0m 74ms/step - accuracy: 0.7710 - loss: 0.5413 - val_accuracy: 0.7867 - val_loss: 0.5249\n",
            "Epoch 120/150\n",
            "\u001b[1m2/2\u001b[0m \u001b[32m━━━━━━━━━━━━━━━━━━━━\u001b[0m\u001b[37m\u001b[0m \u001b[1m0s\u001b[0m 116ms/step - accuracy: 0.7743 - loss: 0.5418 - val_accuracy: 0.7867 - val_loss: 0.5228\n",
            "Epoch 121/150\n",
            "\u001b[1m2/2\u001b[0m \u001b[32m━━━━━━━━━━━━━━━━━━━━\u001b[0m\u001b[37m\u001b[0m \u001b[1m0s\u001b[0m 124ms/step - accuracy: 0.7676 - loss: 0.5417 - val_accuracy: 0.7867 - val_loss: 0.5207\n",
            "Epoch 122/150\n",
            "\u001b[1m2/2\u001b[0m \u001b[32m━━━━━━━━━━━━━━━━━━━━\u001b[0m\u001b[37m\u001b[0m \u001b[1m0s\u001b[0m 75ms/step - accuracy: 0.7710 - loss: 0.5429 - val_accuracy: 0.7867 - val_loss: 0.5186\n",
            "Epoch 123/150\n",
            "\u001b[1m2/2\u001b[0m \u001b[32m━━━━━━━━━━━━━━━━━━━━\u001b[0m\u001b[37m\u001b[0m \u001b[1m0s\u001b[0m 78ms/step - accuracy: 0.7710 - loss: 0.5389 - val_accuracy: 0.7867 - val_loss: 0.5165\n",
            "Epoch 124/150\n",
            "\u001b[1m2/2\u001b[0m \u001b[32m━━━━━━━━━━━━━━━━━━━━\u001b[0m\u001b[37m\u001b[0m \u001b[1m0s\u001b[0m 77ms/step - accuracy: 0.7710 - loss: 0.5389 - val_accuracy: 0.7867 - val_loss: 0.5144\n",
            "Epoch 125/150\n",
            "\u001b[1m2/2\u001b[0m \u001b[32m━━━━━━━━━━━━━━━━━━━━\u001b[0m\u001b[37m\u001b[0m \u001b[1m0s\u001b[0m 75ms/step - accuracy: 0.7710 - loss: 0.5352 - val_accuracy: 0.7867 - val_loss: 0.5122\n",
            "Epoch 126/150\n",
            "\u001b[1m2/2\u001b[0m \u001b[32m━━━━━━━━━━━━━━━━━━━━\u001b[0m\u001b[37m\u001b[0m \u001b[1m0s\u001b[0m 74ms/step - accuracy: 0.7676 - loss: 0.5361 - val_accuracy: 0.7933 - val_loss: 0.5101\n",
            "Epoch 127/150\n",
            "\u001b[1m2/2\u001b[0m \u001b[32m━━━━━━━━━━━━━━━━━━━━\u001b[0m\u001b[37m\u001b[0m \u001b[1m0s\u001b[0m 77ms/step - accuracy: 0.7773 - loss: 0.5330 - val_accuracy: 0.7933 - val_loss: 0.5081\n",
            "Epoch 128/150\n",
            "\u001b[1m2/2\u001b[0m \u001b[32m━━━━━━━━━━━━━━━━━━━━\u001b[0m\u001b[37m\u001b[0m \u001b[1m0s\u001b[0m 74ms/step - accuracy: 0.7840 - loss: 0.5241 - val_accuracy: 0.7933 - val_loss: 0.5060\n",
            "Epoch 129/150\n",
            "\u001b[1m2/2\u001b[0m \u001b[32m━━━━━━━━━━━━━━━━━━━━\u001b[0m\u001b[37m\u001b[0m \u001b[1m0s\u001b[0m 91ms/step - accuracy: 0.7806 - loss: 0.5230 - val_accuracy: 0.7933 - val_loss: 0.5040\n",
            "Epoch 130/150\n",
            "\u001b[1m2/2\u001b[0m \u001b[32m━━━━━━━━━━━━━━━━━━━━\u001b[0m\u001b[37m\u001b[0m \u001b[1m0s\u001b[0m 75ms/step - accuracy: 0.7873 - loss: 0.5190 - val_accuracy: 0.7933 - val_loss: 0.5019\n",
            "Epoch 131/150\n",
            "\u001b[1m2/2\u001b[0m \u001b[32m━━━━━━━━━━━━━━━━━━━━\u001b[0m\u001b[37m\u001b[0m \u001b[1m0s\u001b[0m 77ms/step - accuracy: 0.7873 - loss: 0.5156 - val_accuracy: 0.7933 - val_loss: 0.4998\n",
            "Epoch 132/150\n",
            "\u001b[1m2/2\u001b[0m \u001b[32m━━━━━━━━━━━━━━━━━━━━\u001b[0m\u001b[37m\u001b[0m \u001b[1m0s\u001b[0m 77ms/step - accuracy: 0.7806 - loss: 0.5142 - val_accuracy: 0.7933 - val_loss: 0.4977\n",
            "Epoch 133/150\n",
            "\u001b[1m2/2\u001b[0m \u001b[32m━━━━━━━━━━━━━━━━━━━━\u001b[0m\u001b[37m\u001b[0m \u001b[1m0s\u001b[0m 119ms/step - accuracy: 0.7773 - loss: 0.5158 - val_accuracy: 0.7933 - val_loss: 0.4956\n",
            "Epoch 134/150\n",
            "\u001b[1m2/2\u001b[0m \u001b[32m━━━━━━━━━━━━━━━━━━━━\u001b[0m\u001b[37m\u001b[0m \u001b[1m0s\u001b[0m 73ms/step - accuracy: 0.7840 - loss: 0.5105 - val_accuracy: 0.8000 - val_loss: 0.4935\n",
            "Epoch 135/150\n",
            "\u001b[1m2/2\u001b[0m \u001b[32m━━━━━━━━━━━━━━━━━━━━\u001b[0m\u001b[37m\u001b[0m \u001b[1m0s\u001b[0m 84ms/step - accuracy: 0.7937 - loss: 0.5117 - val_accuracy: 0.8000 - val_loss: 0.4914\n",
            "Epoch 136/150\n",
            "\u001b[1m2/2\u001b[0m \u001b[32m━━━━━━━━━━━━━━━━━━━━\u001b[0m\u001b[37m\u001b[0m \u001b[1m0s\u001b[0m 88ms/step - accuracy: 0.7937 - loss: 0.5077 - val_accuracy: 0.8000 - val_loss: 0.4894\n",
            "Epoch 137/150\n",
            "\u001b[1m2/2\u001b[0m \u001b[32m━━━━━━━━━━━━━━━━━━━━\u001b[0m\u001b[37m\u001b[0m \u001b[1m0s\u001b[0m 82ms/step - accuracy: 0.7937 - loss: 0.5058 - val_accuracy: 0.8067 - val_loss: 0.4875\n",
            "Epoch 138/150\n",
            "\u001b[1m2/2\u001b[0m \u001b[32m━━━━━━━━━━━━━━━━━━━━\u001b[0m\u001b[37m\u001b[0m \u001b[1m0s\u001b[0m 73ms/step - accuracy: 0.7870 - loss: 0.5079 - val_accuracy: 0.8067 - val_loss: 0.4855\n",
            "Epoch 139/150\n",
            "\u001b[1m2/2\u001b[0m \u001b[32m━━━━━━━━━━━━━━━━━━━━\u001b[0m\u001b[37m\u001b[0m \u001b[1m0s\u001b[0m 82ms/step - accuracy: 0.7937 - loss: 0.4985 - val_accuracy: 0.8067 - val_loss: 0.4836\n",
            "Epoch 140/150\n",
            "\u001b[1m2/2\u001b[0m \u001b[32m━━━━━━━━━━━━━━━━━━━━\u001b[0m\u001b[37m\u001b[0m \u001b[1m0s\u001b[0m 76ms/step - accuracy: 0.7870 - loss: 0.5025 - val_accuracy: 0.8133 - val_loss: 0.4817\n",
            "Epoch 141/150\n",
            "\u001b[1m2/2\u001b[0m \u001b[32m━━━━━━━━━━━━━━━━━━━━\u001b[0m\u001b[37m\u001b[0m \u001b[1m0s\u001b[0m 76ms/step - accuracy: 0.8000 - loss: 0.4957 - val_accuracy: 0.8133 - val_loss: 0.4798\n",
            "Epoch 142/150\n",
            "\u001b[1m2/2\u001b[0m \u001b[32m━━━━━━━━━━━━━━━━━━━━\u001b[0m\u001b[37m\u001b[0m \u001b[1m0s\u001b[0m 81ms/step - accuracy: 0.7967 - loss: 0.4972 - val_accuracy: 0.8133 - val_loss: 0.4778\n",
            "Epoch 143/150\n",
            "\u001b[1m2/2\u001b[0m \u001b[32m━━━━━━━━━━━━━━━━━━━━\u001b[0m\u001b[37m\u001b[0m \u001b[1m0s\u001b[0m 83ms/step - accuracy: 0.8033 - loss: 0.4922 - val_accuracy: 0.8133 - val_loss: 0.4758\n",
            "Epoch 144/150\n",
            "\u001b[1m2/2\u001b[0m \u001b[32m━━━━━━━━━━━━━━━━━━━━\u001b[0m\u001b[37m\u001b[0m \u001b[1m0s\u001b[0m 84ms/step - accuracy: 0.8000 - loss: 0.4923 - val_accuracy: 0.8133 - val_loss: 0.4738\n",
            "Epoch 145/150\n",
            "\u001b[1m2/2\u001b[0m \u001b[32m━━━━━━━━━━━━━━━━━━━━\u001b[0m\u001b[37m\u001b[0m \u001b[1m0s\u001b[0m 140ms/step - accuracy: 0.7967 - loss: 0.4904 - val_accuracy: 0.8133 - val_loss: 0.4718\n",
            "Epoch 146/150\n",
            "\u001b[1m2/2\u001b[0m \u001b[32m━━━━━━━━━━━━━━━━━━━━\u001b[0m\u001b[37m\u001b[0m \u001b[1m0s\u001b[0m 128ms/step - accuracy: 0.7967 - loss: 0.4858 - val_accuracy: 0.8200 - val_loss: 0.4698\n",
            "Epoch 147/150\n",
            "\u001b[1m2/2\u001b[0m \u001b[32m━━━━━━━━━━━━━━━━━━━━\u001b[0m\u001b[37m\u001b[0m \u001b[1m0s\u001b[0m 137ms/step - accuracy: 0.8097 - loss: 0.4813 - val_accuracy: 0.8200 - val_loss: 0.4679\n",
            "Epoch 148/150\n",
            "\u001b[1m2/2\u001b[0m \u001b[32m━━━━━━━━━━━━━━━━━━━━\u001b[0m\u001b[37m\u001b[0m \u001b[1m0s\u001b[0m 139ms/step - accuracy: 0.8063 - loss: 0.4824 - val_accuracy: 0.8200 - val_loss: 0.4660\n",
            "Epoch 149/150\n",
            "\u001b[1m2/2\u001b[0m \u001b[32m━━━━━━━━━━━━━━━━━━━━\u001b[0m\u001b[37m\u001b[0m \u001b[1m0s\u001b[0m 164ms/step - accuracy: 0.8063 - loss: 0.4797 - val_accuracy: 0.8267 - val_loss: 0.4641\n",
            "Epoch 150/150\n",
            "\u001b[1m2/2\u001b[0m \u001b[32m━━━━━━━━━━━━━━━━━━━━\u001b[0m\u001b[37m\u001b[0m \u001b[1m0s\u001b[0m 134ms/step - accuracy: 0.8194 - loss: 0.4786 - val_accuracy: 0.8267 - val_loss: 0.4622\n"
          ]
        },
        {
          "output_type": "execute_result",
          "data": {
            "text/plain": [
              "<keras.src.callbacks.history.History at 0x7e2f482ed210>"
            ]
          },
          "metadata": {},
          "execution_count": 27
        }
      ]
    },
    {
      "cell_type": "code",
      "source": [
        "(loss,accuracy)=model.evaluate(X_test,Y_test, batch_size=10,verbose=1)\n",
        "accuracy*100"
      ],
      "metadata": {
        "id": "Ylz-8CxOeIpe",
        "colab": {
          "base_uri": "https://localhost:8080/"
        },
        "outputId": "2d307550-3df6-4e92-fca0-f8d5d83f99f5"
      },
      "execution_count": null,
      "outputs": [
        {
          "output_type": "stream",
          "name": "stdout",
          "text": [
            "\u001b[1m5/5\u001b[0m \u001b[32m━━━━━━━━━━━━━━━━━━━━\u001b[0m\u001b[37m\u001b[0m \u001b[1m0s\u001b[0m 11ms/step - accuracy: 0.8523 - loss: 0.4575\n"
          ]
        },
        {
          "output_type": "execute_result",
          "data": {
            "text/plain": [
              "84.44444537162781"
            ]
          },
          "metadata": {},
          "execution_count": 28
        }
      ]
    },
    {
      "cell_type": "code",
      "source": [
        "new_data = [5.1,3.5,1.4,0.2]\n",
        "new_data2 = np.reshape(new_data, (1,4))\n",
        "Y_pred = np.argmax(model.predict(new_data2))\n",
        "print(Y_pred)"
      ],
      "metadata": {
        "id": "exiJb33OeQJ8",
        "colab": {
          "base_uri": "https://localhost:8080/"
        },
        "outputId": "6838c92d-bb9a-4dbb-a01e-2a96b9a90be0"
      },
      "execution_count": null,
      "outputs": [
        {
          "output_type": "stream",
          "name": "stdout",
          "text": [
            "\u001b[1m1/1\u001b[0m \u001b[32m━━━━━━━━━━━━━━━━━━━━\u001b[0m\u001b[37m\u001b[0m \u001b[1m0s\u001b[0m 124ms/step\n",
            "2\n"
          ]
        }
      ]
    },
    {
      "cell_type": "code",
      "source": [
        "# Convert Keras model to a tflite model\n",
        "\n",
        "converter = tf.lite.TFLiteConverter.from_keras_model(model)\n",
        "tflite_model = converter.convert()\n",
        "\n",
        "# Save the model to disk\n",
        "open(tflite_model_name + '.tflite', \"wb\").write(tflite_model)"
      ],
      "metadata": {
        "id": "v7bQ-sJheUSh",
        "colab": {
          "base_uri": "https://localhost:8080/"
        },
        "outputId": "f5f17799-f96c-4e96-c99d-baf771a02987"
      },
      "execution_count": null,
      "outputs": [
        {
          "output_type": "stream",
          "name": "stdout",
          "text": [
            "Saved artifact at '/tmp/tmpkbfdmmzc'. The following endpoints are available:\n",
            "\n",
            "* Endpoint 'serve'\n",
            "  args_0 (POSITIONAL_ONLY): TensorSpec(shape=(None, 4), dtype=tf.float32, name='keras_tensor_4')\n",
            "Output Type:\n",
            "  TensorSpec(shape=(None, 3), dtype=tf.float32, name=None)\n",
            "Captures:\n",
            "  138741701000080: TensorSpec(shape=(), dtype=tf.resource, name=None)\n",
            "  138741700986256: TensorSpec(shape=(), dtype=tf.resource, name=None)\n",
            "  138741700995856: TensorSpec(shape=(), dtype=tf.resource, name=None)\n",
            "  138741700995664: TensorSpec(shape=(), dtype=tf.resource, name=None)\n"
          ]
        },
        {
          "output_type": "execute_result",
          "data": {
            "text/plain": [
              "2024"
            ]
          },
          "metadata": {},
          "execution_count": 30
        }
      ]
    },
    {
      "cell_type": "code",
      "source": [
        "# Function: Convert some hex value into an array for C programming\n",
        "def hex_to_c_array(hex_data, var_name):\n",
        "\n",
        "  c_str = ''\n",
        "\n",
        "  # Create header guard\n",
        "  c_str += '#ifndef ' + var_name.upper() + '_H\\n'\n",
        "  c_str += '#define ' + var_name.upper() + '_H\\n\\n'\n",
        "\n",
        "  # Add array length at top of file\n",
        "  c_str += '\\nunsigned int ' + var_name + '_len = ' + str(len(hex_data)) + ';\\n'\n",
        "\n",
        "  # Declare C variable\n",
        "  c_str += 'unsigned char ' + var_name + '[] = {'\n",
        "  hex_array = []\n",
        "  for i, val in enumerate(hex_data) :\n",
        "\n",
        "    # Construct string from hex\n",
        "    hex_str = format(val, '#04x')\n",
        "\n",
        "    # Add formatting so each line stays within 80 characters\n",
        "    if (i + 1) < len(hex_data):\n",
        "      hex_str += ','\n",
        "    if (i + 1) % 12 == 0:\n",
        "      hex_str += '\\n '\n",
        "    hex_array.append(hex_str)\n",
        "\n",
        "  # Add closing brace\n",
        "  c_str += '\\n ' + format(' '.join(hex_array)) + '\\n};\\n\\n'\n",
        "\n",
        "  # Close out header guard\n",
        "  c_str += '#endif //' + var_name.upper() + '_H'\n",
        "\n",
        "  return c_str"
      ],
      "metadata": {
        "id": "Mq4tgd82eWmB"
      },
      "execution_count": null,
      "outputs": []
    },
    {
      "cell_type": "code",
      "source": [
        "# Write TFLite model to a C source (or header) file\n",
        "with open(c_model_name + '.h', 'w') as file:\n",
        "  file.write(hex_to_c_array(tflite_model, c_model_name))"
      ],
      "metadata": {
        "id": "S-bIP_0aeeKX"
      },
      "execution_count": null,
      "outputs": []
    },
    {
      "cell_type": "code",
      "source": [
        "cfile = open(c_model_name + '.h')\n",
        "cfile.read()"
      ],
      "metadata": {
        "id": "RjsNZ3eBeiBo",
        "colab": {
          "base_uri": "https://localhost:8080/",
          "height": 192
        },
        "outputId": "23c65015-c97a-491e-e4ca-9e674d053025"
      },
      "execution_count": null,
      "outputs": [
        {
          "output_type": "execute_result",
          "data": {
            "text/plain": [
              "'#ifndef IRIS_H\\n#define IRIS_H\\n\\n\\nunsigned int iris_len = 2024;\\nunsigned char iris[] = {\\n 0x1c, 0x00, 0x00, 0x00, 0x54, 0x46, 0x4c, 0x33, 0x14, 0x00, 0x20, 0x00,\\n  0x1c, 0x00, 0x18, 0x00, 0x14, 0x00, 0x10, 0x00, 0x0c, 0x00, 0x00, 0x00,\\n  0x08, 0x00, 0x04, 0x00, 0x14, 0x00, 0x00, 0x00, 0x1c, 0x00, 0x00, 0x00,\\n  0x98, 0x00, 0x00, 0x00, 0xf0, 0x00, 0x00, 0x00, 0x14, 0x03, 0x00, 0x00,\\n  0x24, 0x03, 0x00, 0x00, 0x84, 0x07, 0x00, 0x00, 0x03, 0x00, 0x00, 0x00,\\n  0x01, 0x00, 0x00, 0x00, 0x10, 0x00, 0x00, 0x00, 0x00, 0x00, 0x0a, 0x00,\\n  0x10, 0x00, 0x0c, 0x00, 0x08, 0x00, 0x04, 0x00, 0x0a, 0x00, 0x00, 0x00,\\n  0x0c, 0x00, 0x00, 0x00, 0x1c, 0x00, 0x00, 0x00, 0x3c, 0x00, 0x00, 0x00,\\n  0x0f, 0x00, 0x00, 0x00, 0x73, 0x65, 0x72, 0x76, 0x69, 0x6e, 0x67, 0x5f,\\n  0x64, 0x65, 0x66, 0x61, 0x75, 0x6c, 0x74, 0x00, 0x01, 0x00, 0x00, 0x00,\\n  0x04, 0x00, 0x00, 0x00, 0x90, 0xff, 0xff, 0xff, 0x07, 0x00, 0x00, 0x00,\\n  0x04, 0x00, 0x00, 0x00, 0x08, 0x00, 0x00, 0x00, 0x6f, 0x75, 0x74, 0x70,\\n  0x75, 0x74, 0x5f, 0x30, 0x00, 0x00, 0x00, 0x00, 0x01, 0x00, 0x00, 0x00,\\n  0x04, 0x00, 0x00, 0x00, 0xd6, 0xfc, 0xff, 0xff, 0x04, 0x00, 0x00, 0x00,\\n  0x0e, 0x00, 0x00, 0x00, 0x6b, 0x65, 0x72, 0x61, 0x73, 0x5f, 0x74, 0x65,\\n  0x6e, 0x73, 0x6f, 0x72, 0x5f, 0x34, 0x00, 0x00, 0x02, 0x00, 0x00, 0x00,\\n  0x34, 0x00, 0x00, 0x00, 0x04, 0x00, 0x00, 0x00, 0xdc, 0xff, 0xff, 0xff,\\n  0x0a, 0x00, 0x00, 0x00, 0x04, 0x00, 0x00, 0x00, 0x13, 0x00, 0x00, 0x00,\\n  0x43, 0x4f, 0x4e, 0x56, 0x45, 0x52, 0x53, 0x49, 0x4f, 0x4e, 0x5f, 0x4d,\\n  0x45, 0x54, 0x41, 0x44, 0x41, 0x54, 0x41, 0x00, 0x08, 0x00, 0x0c, 0x00,\\n  0x08, 0x00, 0x04, 0x00, 0x08, 0x00, 0x00, 0x00, 0x09, 0x00, 0x00, 0x00,\\n  0x04, 0x00, 0x00, 0x00, 0x13, 0x00, 0x00, 0x00, 0x6d, 0x69, 0x6e, 0x5f,\\n  0x72, 0x75, 0x6e, 0x74, 0x69, 0x6d, 0x65, 0x5f, 0x76, 0x65, 0x72, 0x73,\\n  0x69, 0x6f, 0x6e, 0x00, 0x0b, 0x00, 0x00, 0x00, 0x20, 0x02, 0x00, 0x00,\\n  0x18, 0x02, 0x00, 0x00, 0x9c, 0x01, 0x00, 0x00, 0x80, 0x01, 0x00, 0x00,\\n  0x4c, 0x01, 0x00, 0x00, 0xac, 0x00, 0x00, 0x00, 0xa4, 0x00, 0x00, 0x00,\\n  0x9c, 0x00, 0x00, 0x00, 0x94, 0x00, 0x00, 0x00, 0x74, 0x00, 0x00, 0x00,\\n  0x04, 0x00, 0x00, 0x00, 0x7e, 0xfd, 0xff, 0xff, 0x04, 0x00, 0x00, 0x00,\\n  0x60, 0x00, 0x00, 0x00, 0x10, 0x00, 0x00, 0x00, 0x00, 0x00, 0x00, 0x00,\\n  0x08, 0x00, 0x0e, 0x00, 0x08, 0x00, 0x04, 0x00, 0x08, 0x00, 0x00, 0x00,\\n  0x10, 0x00, 0x00, 0x00, 0x24, 0x00, 0x00, 0x00, 0x00, 0x00, 0x06, 0x00,\\n  0x08, 0x00, 0x04, 0x00, 0x06, 0x00, 0x00, 0x00, 0x04, 0x00, 0x00, 0x00,\\n  0x00, 0x00, 0x00, 0x00, 0x0c, 0x00, 0x18, 0x00, 0x14, 0x00, 0x10, 0x00,\\n  0x0c, 0x00, 0x04, 0x00, 0x0c, 0x00, 0x00, 0x00, 0x0d, 0xde, 0xbe, 0x82,\\n  0xa9, 0x84, 0xba, 0x40, 0x02, 0x00, 0x00, 0x00, 0x02, 0x00, 0x00, 0x00,\\n  0x04, 0x00, 0x00, 0x00, 0x06, 0x00, 0x00, 0x00, 0x32, 0x2e, 0x31, 0x38,\\n  0x2e, 0x30, 0x00, 0x00, 0xea, 0xfd, 0xff, 0xff, 0x04, 0x00, 0x00, 0x00,\\n  0x10, 0x00, 0x00, 0x00, 0x31, 0x2e, 0x35, 0x2e, 0x30, 0x00, 0x00, 0x00,\\n  0x00, 0x00, 0x00, 0x00, 0x00, 0x00, 0x00, 0x00, 0x54, 0xfa, 0xff, 0xff,\\n  0x58, 0xfa, 0xff, 0xff, 0x5c, 0xfa, 0xff, 0xff, 0x12, 0xfe, 0xff, 0xff,\\n  0x04, 0x00, 0x00, 0x00, 0x90, 0x00, 0x00, 0x00, 0x5c, 0x34, 0x18, 0xbe,\\n  0xd1, 0x1f, 0x01, 0x3f, 0x46, 0xf6, 0x78, 0x3d, 0x69, 0x0e, 0x07, 0x3f,\\n  0x70, 0x1a, 0xdf, 0xbe, 0xfe, 0x32, 0x44, 0x3e, 0xc3, 0x7b, 0x93, 0xbe,\\n  0x07, 0xbd, 0x52, 0xbf, 0xd0, 0x5a, 0x18, 0x3f, 0x75, 0xb1, 0x4e, 0x3e,\\n  0xa4, 0x04, 0x30, 0xbe, 0x01, 0xf5, 0x13, 0x3f, 0x93, 0xc9, 0x09, 0xbf,\\n  0x51, 0x87, 0xe2, 0x3d, 0x99, 0x55, 0x29, 0xbb, 0x2d, 0x9f, 0xfa, 0x3e,\\n  0x4a, 0xa8, 0xad, 0xbd, 0x2b, 0xed, 0xc4, 0xbe, 0x73, 0xb6, 0x12, 0x3f,\\n  0x44, 0x63, 0x6a, 0x3e, 0x55, 0x65, 0x9f, 0xbe, 0x77, 0x50, 0x4f, 0xbf,\\n  0x20, 0x69, 0xd6, 0x3e, 0xbb, 0x70, 0xee, 0xbe, 0xff, 0xa5, 0xd4, 0x3e,\\n  0xe1, 0xea, 0x3f, 0xbe, 0xec, 0xc8, 0x16, 0x3f, 0x39, 0x14, 0x76, 0x3e,\\n  0x5c, 0x3b, 0xfa, 0x3e, 0x95, 0x13, 0x98, 0x3e, 0x14, 0xb4, 0x87, 0x3d,\\n  0x26, 0xc4, 0x63, 0x3e, 0xf2, 0x74, 0x1f, 0xbf, 0x41, 0x11, 0x58, 0xbd,\\n  0xba, 0xc4, 0x14, 0xbf, 0xcd, 0x17, 0x07, 0xbf, 0xae, 0xfe, 0xff, 0xff,\\n  0x04, 0x00, 0x00, 0x00, 0x24, 0x00, 0x00, 0x00, 0xb8, 0xd8, 0xe0, 0x3d,\\n  0x7b, 0x38, 0xcb, 0xbd, 0x5f, 0x71, 0x12, 0x3e, 0x25, 0xce, 0x87, 0xbd,\\n  0x59, 0xdc, 0x4f, 0x3e, 0x5e, 0xde, 0x4e, 0x3e, 0x5e, 0x81, 0x8a, 0x3e,\\n  0x27, 0x4f, 0x8b, 0xbd, 0xc9, 0x16, 0x24, 0xbc, 0xde, 0xfe, 0xff, 0xff,\\n  0x04, 0x00, 0x00, 0x00, 0x0c, 0x00, 0x00, 0x00, 0x61, 0x12, 0x45, 0xbe,\\n  0x2b, 0x97, 0x81, 0x3d, 0x75, 0x42, 0x34, 0x3d, 0xf6, 0xfe, 0xff, 0xff,\\n  0x04, 0x00, 0x00, 0x00, 0x6c, 0x00, 0x00, 0x00, 0x48, 0xfb, 0x7b, 0xbd,\\n  0x3e, 0x08, 0xcb, 0x3e, 0x6b, 0xe7, 0x6d, 0xbd, 0x65, 0x10, 0xd8, 0xbe,\\n  0x71, 0xac, 0xff, 0xbe, 0xfa, 0x76, 0x06, 0xbe, 0xd0, 0xd3, 0x04, 0xbe,\\n  0xd7, 0xb0, 0x56, 0xbf, 0x4d, 0xe2, 0x50, 0x3f, 0x5e, 0xe7, 0x8b, 0xbe,\\n  0xf3, 0xd9, 0x08, 0xbe, 0x2f, 0x12, 0xaf, 0xbe, 0x12, 0x0c, 0xf7, 0x3e,\\n  0xcf, 0xee, 0x74, 0x3e, 0xf0, 0xd7, 0x8a, 0x3e, 0x9c, 0x4a, 0x91, 0x3e,\\n  0xbd, 0x45, 0x48, 0x3e, 0x2f, 0x28, 0xf2, 0xbe, 0x7e, 0x98, 0x67, 0x3e,\\n  0xa7, 0x07, 0xfe, 0x3d, 0x9b, 0xbe, 0x0d, 0x3f, 0x42, 0x40, 0x05, 0xbe,\\n  0x4e, 0x77, 0x64, 0x3d, 0x3c, 0x18, 0xc4, 0x3c, 0xf7, 0x00, 0x05, 0x3f,\\n  0x8a, 0xe9, 0x84, 0xbe, 0x22, 0xe7, 0x1d, 0xbf, 0xbc, 0xfb, 0xff, 0xff,\\n  0xc0, 0xfb, 0xff, 0xff, 0x0f, 0x00, 0x00, 0x00, 0x4d, 0x4c, 0x49, 0x52,\\n  0x20, 0x43, 0x6f, 0x6e, 0x76, 0x65, 0x72, 0x74, 0x65, 0x64, 0x2e, 0x00,\\n  0x01, 0x00, 0x00, 0x00, 0x14, 0x00, 0x00, 0x00, 0x00, 0x00, 0x0e, 0x00,\\n  0x18, 0x00, 0x14, 0x00, 0x10, 0x00, 0x0c, 0x00, 0x08, 0x00, 0x04, 0x00,\\n  0x0e, 0x00, 0x00, 0x00, 0x14, 0x00, 0x00, 0x00, 0x1c, 0x00, 0x00, 0x00,\\n  0xec, 0x00, 0x00, 0x00, 0xf0, 0x00, 0x00, 0x00, 0xf4, 0x00, 0x00, 0x00,\\n  0x04, 0x00, 0x00, 0x00, 0x6d, 0x61, 0x69, 0x6e, 0x00, 0x00, 0x00, 0x00,\\n  0x03, 0x00, 0x00, 0x00, 0x94, 0x00, 0x00, 0x00, 0x50, 0x00, 0x00, 0x00,\\n  0x14, 0x00, 0x00, 0x00, 0x00, 0x00, 0x0e, 0x00, 0x1a, 0x00, 0x14, 0x00,\\n  0x10, 0x00, 0x0c, 0x00, 0x0b, 0x00, 0x04, 0x00, 0x0e, 0x00, 0x00, 0x00,\\n  0x1c, 0x00, 0x00, 0x00, 0x00, 0x00, 0x00, 0x09, 0x1c, 0x00, 0x00, 0x00,\\n  0x20, 0x00, 0x00, 0x00, 0x01, 0x00, 0x00, 0x00, 0x00, 0x00, 0x06, 0x00,\\n  0x08, 0x00, 0x04, 0x00, 0x06, 0x00, 0x00, 0x00, 0x00, 0x00, 0x80, 0x3f,\\n  0x01, 0x00, 0x00, 0x00, 0x07, 0x00, 0x00, 0x00, 0x01, 0x00, 0x00, 0x00,\\n  0x06, 0x00, 0x00, 0x00, 0xce, 0xff, 0xff, 0xff, 0x10, 0x00, 0x00, 0x00,\\n  0x00, 0x00, 0x00, 0x08, 0x0c, 0x00, 0x00, 0x00, 0x10, 0x00, 0x00, 0x00,\\n  0x80, 0xfc, 0xff, 0xff, 0x01, 0x00, 0x00, 0x00, 0x06, 0x00, 0x00, 0x00,\\n  0x03, 0x00, 0x00, 0x00, 0x05, 0x00, 0x00, 0x00, 0x01, 0x00, 0x00, 0x00,\\n  0x02, 0x00, 0x00, 0x00, 0x00, 0x00, 0x0e, 0x00, 0x16, 0x00, 0x00, 0x00,\\n  0x10, 0x00, 0x0c, 0x00, 0x0b, 0x00, 0x04, 0x00, 0x0e, 0x00, 0x00, 0x00,\\n  0x18, 0x00, 0x00, 0x00, 0x00, 0x00, 0x00, 0x08, 0x18, 0x00, 0x00, 0x00,\\n  0x1c, 0x00, 0x00, 0x00, 0x00, 0x00, 0x06, 0x00, 0x08, 0x00, 0x07, 0x00,\\n  0x06, 0x00, 0x00, 0x00, 0x00, 0x00, 0x00, 0x01, 0x01, 0x00, 0x00, 0x00,\\n  0x05, 0x00, 0x00, 0x00, 0x03, 0x00, 0x00, 0x00, 0x00, 0x00, 0x00, 0x00,\\n  0x04, 0x00, 0x00, 0x00, 0x03, 0x00, 0x00, 0x00, 0x01, 0x00, 0x00, 0x00,\\n  0x07, 0x00, 0x00, 0x00, 0x01, 0x00, 0x00, 0x00, 0x00, 0x00, 0x00, 0x00,\\n  0x08, 0x00, 0x00, 0x00, 0xdc, 0x02, 0x00, 0x00, 0x84, 0x02, 0x00, 0x00,\\n  0x30, 0x02, 0x00, 0x00, 0xd4, 0x01, 0x00, 0x00, 0x84, 0x01, 0x00, 0x00,\\n  0xe4, 0x00, 0x00, 0x00, 0x60, 0x00, 0x00, 0x00, 0x04, 0x00, 0x00, 0x00,\\n  0x5a, 0xfd, 0xff, 0xff, 0x00, 0x00, 0x00, 0x01, 0x14, 0x00, 0x00, 0x00,\\n  0x1c, 0x00, 0x00, 0x00, 0x1c, 0x00, 0x00, 0x00, 0x08, 0x00, 0x00, 0x00,\\n  0x34, 0x00, 0x00, 0x00, 0x02, 0x00, 0x00, 0x00, 0xff, 0xff, 0xff, 0xff,\\n  0x03, 0x00, 0x00, 0x00, 0x44, 0xfd, 0xff, 0xff, 0x1b, 0x00, 0x00, 0x00,\\n  0x53, 0x74, 0x61, 0x74, 0x65, 0x66, 0x75, 0x6c, 0x50, 0x61, 0x72, 0x74,\\n  0x69, 0x74, 0x69, 0x6f, 0x6e, 0x65, 0x64, 0x43, 0x61, 0x6c, 0x6c, 0x5f,\\n  0x31, 0x3a, 0x30, 0x00, 0x02, 0x00, 0x00, 0x00, 0x01, 0x00, 0x00, 0x00,\\n  0x03, 0x00, 0x00, 0x00, 0xb2, 0xfd, 0xff, 0xff, 0x00, 0x00, 0x00, 0x01,\\n  0x14, 0x00, 0x00, 0x00, 0x1c, 0x00, 0x00, 0x00, 0x1c, 0x00, 0x00, 0x00,\\n  0x07, 0x00, 0x00, 0x00, 0x5c, 0x00, 0x00, 0x00, 0x02, 0x00, 0x00, 0x00,\\n  0xff, 0xff, 0xff, 0xff, 0x03, 0x00, 0x00, 0x00, 0x9c, 0xfd, 0xff, 0xff,\\n  0x40, 0x00, 0x00, 0x00, 0x73, 0x65, 0x71, 0x75, 0x65, 0x6e, 0x74, 0x69,\\n  0x61, 0x6c, 0x5f, 0x31, 0x5f, 0x31, 0x2f, 0x64, 0x65, 0x6e, 0x73, 0x65,\\n  0x5f, 0x33, 0x5f, 0x31, 0x2f, 0x4d, 0x61, 0x74, 0x4d, 0x75, 0x6c, 0x3b,\\n  0x73, 0x65, 0x71, 0x75, 0x65, 0x6e, 0x74, 0x69, 0x61, 0x6c, 0x5f, 0x31,\\n  0x5f, 0x31, 0x2f, 0x64, 0x65, 0x6e, 0x73, 0x65, 0x5f, 0x33, 0x5f, 0x31,\\n  0x2f, 0x42, 0x69, 0x61, 0x73, 0x41, 0x64, 0x64, 0x00, 0x00, 0x00, 0x00,\\n  0x02, 0x00, 0x00, 0x00, 0x01, 0x00, 0x00, 0x00, 0x03, 0x00, 0x00, 0x00,\\n  0x32, 0xfe, 0xff, 0xff, 0x00, 0x00, 0x00, 0x01, 0x14, 0x00, 0x00, 0x00,\\n  0x1c, 0x00, 0x00, 0x00, 0x1c, 0x00, 0x00, 0x00, 0x06, 0x00, 0x00, 0x00,\\n  0x78, 0x00, 0x00, 0x00, 0x02, 0x00, 0x00, 0x00, 0xff, 0xff, 0xff, 0xff,\\n  0x09, 0x00, 0x00, 0x00, 0x1c, 0xfe, 0xff, 0xff, 0x5e, 0x00, 0x00, 0x00,\\n  0x73, 0x65, 0x71, 0x75, 0x65, 0x6e, 0x74, 0x69, 0x61, 0x6c, 0x5f, 0x31,\\n  0x5f, 0x31, 0x2f, 0x64, 0x65, 0x6e, 0x73, 0x65, 0x5f, 0x32, 0x5f, 0x31,\\n  0x2f, 0x4d, 0x61, 0x74, 0x4d, 0x75, 0x6c, 0x3b, 0x73, 0x65, 0x71, 0x75,\\n  0x65, 0x6e, 0x74, 0x69, 0x61, 0x6c, 0x5f, 0x31, 0x5f, 0x31, 0x2f, 0x64,\\n  0x65, 0x6e, 0x73, 0x65, 0x5f, 0x32, 0x5f, 0x31, 0x2f, 0x52, 0x65, 0x6c,\\n  0x75, 0x3b, 0x73, 0x65, 0x71, 0x75, 0x65, 0x6e, 0x74, 0x69, 0x61, 0x6c,\\n  0x5f, 0x31, 0x5f, 0x31, 0x2f, 0x64, 0x65, 0x6e, 0x73, 0x65, 0x5f, 0x32,\\n  0x5f, 0x31, 0x2f, 0x42, 0x69, 0x61, 0x73, 0x41, 0x64, 0x64, 0x00, 0x00,\\n  0x02, 0x00, 0x00, 0x00, 0x01, 0x00, 0x00, 0x00, 0x09, 0x00, 0x00, 0x00,\\n  0x22, 0xff, 0xff, 0xff, 0x00, 0x00, 0x00, 0x01, 0x10, 0x00, 0x00, 0x00,\\n  0x10, 0x00, 0x00, 0x00, 0x05, 0x00, 0x00, 0x00, 0x2c, 0x00, 0x00, 0x00,\\n  0xa8, 0xfe, 0xff, 0xff, 0x1f, 0x00, 0x00, 0x00, 0x73, 0x65, 0x71, 0x75,\\n  0x65, 0x6e, 0x74, 0x69, 0x61, 0x6c, 0x5f, 0x31, 0x5f, 0x31, 0x2f, 0x64,\\n  0x65, 0x6e, 0x73, 0x65, 0x5f, 0x32, 0x5f, 0x31, 0x2f, 0x4d, 0x61, 0x74,\\n  0x4d, 0x75, 0x6c, 0x00, 0x02, 0x00, 0x00, 0x00, 0x09, 0x00, 0x00, 0x00,\\n  0x04, 0x00, 0x00, 0x00, 0x6e, 0xff, 0xff, 0xff, 0x00, 0x00, 0x00, 0x01,\\n  0x10, 0x00, 0x00, 0x00, 0x10, 0x00, 0x00, 0x00, 0x04, 0x00, 0x00, 0x00,\\n  0x3c, 0x00, 0x00, 0x00, 0xf4, 0xfe, 0xff, 0xff, 0x2f, 0x00, 0x00, 0x00,\\n  0x73, 0x65, 0x71, 0x75, 0x65, 0x6e, 0x74, 0x69, 0x61, 0x6c, 0x5f, 0x31,\\n  0x5f, 0x31, 0x2f, 0x64, 0x65, 0x6e, 0x73, 0x65, 0x5f, 0x32, 0x5f, 0x31,\\n  0x2f, 0x42, 0x69, 0x61, 0x73, 0x41, 0x64, 0x64, 0x2f, 0x52, 0x65, 0x61,\\n  0x64, 0x56, 0x61, 0x72, 0x69, 0x61, 0x62, 0x6c, 0x65, 0x4f, 0x70, 0x00,\\n  0x01, 0x00, 0x00, 0x00, 0x09, 0x00, 0x00, 0x00, 0xc6, 0xff, 0xff, 0xff,\\n  0x00, 0x00, 0x00, 0x01, 0x10, 0x00, 0x00, 0x00, 0x10, 0x00, 0x00, 0x00,\\n  0x03, 0x00, 0x00, 0x00, 0x1c, 0x00, 0x00, 0x00, 0x4c, 0xff, 0xff, 0xff,\\n  0x0f, 0x00, 0x00, 0x00, 0x61, 0x72, 0x69, 0x74, 0x68, 0x2e, 0x63, 0x6f,\\n  0x6e, 0x73, 0x74, 0x61, 0x6e, 0x74, 0x31, 0x00, 0x01, 0x00, 0x00, 0x00,\\n  0x03, 0x00, 0x00, 0x00, 0x00, 0x00, 0x16, 0x00, 0x18, 0x00, 0x14, 0x00,\\n  0x00, 0x00, 0x10, 0x00, 0x0c, 0x00, 0x08, 0x00, 0x00, 0x00, 0x00, 0x00,\\n  0x00, 0x00, 0x07, 0x00, 0x16, 0x00, 0x00, 0x00, 0x00, 0x00, 0x00, 0x01,\\n  0x10, 0x00, 0x00, 0x00, 0x10, 0x00, 0x00, 0x00, 0x02, 0x00, 0x00, 0x00,\\n  0x1c, 0x00, 0x00, 0x00, 0x9c, 0xff, 0xff, 0xff, 0x0e, 0x00, 0x00, 0x00,\\n  0x61, 0x72, 0x69, 0x74, 0x68, 0x2e, 0x63, 0x6f, 0x6e, 0x73, 0x74, 0x61,\\n  0x6e, 0x74, 0x00, 0x00, 0x02, 0x00, 0x00, 0x00, 0x03, 0x00, 0x00, 0x00,\\n  0x09, 0x00, 0x00, 0x00, 0x00, 0x00, 0x16, 0x00, 0x1c, 0x00, 0x18, 0x00,\\n  0x00, 0x00, 0x14, 0x00, 0x10, 0x00, 0x0c, 0x00, 0x00, 0x00, 0x00, 0x00,\\n  0x08, 0x00, 0x07, 0x00, 0x16, 0x00, 0x00, 0x00, 0x00, 0x00, 0x00, 0x01,\\n  0x14, 0x00, 0x00, 0x00, 0x20, 0x00, 0x00, 0x00, 0x20, 0x00, 0x00, 0x00,\\n  0x01, 0x00, 0x00, 0x00, 0x40, 0x00, 0x00, 0x00, 0x02, 0x00, 0x00, 0x00,\\n  0xff, 0xff, 0xff, 0xff, 0x04, 0x00, 0x00, 0x00, 0x04, 0x00, 0x04, 0x00,\\n  0x04, 0x00, 0x00, 0x00, 0x20, 0x00, 0x00, 0x00, 0x73, 0x65, 0x72, 0x76,\\n  0x69, 0x6e, 0x67, 0x5f, 0x64, 0x65, 0x66, 0x61, 0x75, 0x6c, 0x74, 0x5f,\\n  0x6b, 0x65, 0x72, 0x61, 0x73, 0x5f, 0x74, 0x65, 0x6e, 0x73, 0x6f, 0x72,\\n  0x5f, 0x34, 0x3a, 0x30, 0x00, 0x00, 0x00, 0x00, 0x02, 0x00, 0x00, 0x00,\\n  0x01, 0x00, 0x00, 0x00, 0x04, 0x00, 0x00, 0x00, 0x02, 0x00, 0x00, 0x00,\\n  0x20, 0x00, 0x00, 0x00, 0x04, 0x00, 0x00, 0x00, 0xf4, 0xff, 0xff, 0xff,\\n  0x19, 0x00, 0x00, 0x00, 0x00, 0x00, 0x00, 0x19, 0x0c, 0x00, 0x0c, 0x00,\\n  0x0b, 0x00, 0x00, 0x00, 0x00, 0x00, 0x04, 0x00, 0x0c, 0x00, 0x00, 0x00,\\n  0x09, 0x00, 0x00, 0x00, 0x00, 0x00, 0x00, 0x09\\n};\\n\\n#endif //IRIS_H'"
            ],
            "application/vnd.google.colaboratory.intrinsic+json": {
              "type": "string"
            }
          },
          "metadata": {},
          "execution_count": 33
        }
      ]
    },
    {
      "cell_type": "code",
      "source": [
        "import numpy as np\n",
        "from sklearn.datasets import load_iris\n",
        "from sklearn.preprocessing import StandardScaler\n",
        "from sklearn.metrics.pairwise import rbf_kernel\n",
        "from sklearn.metrics import accuracy_score\n",
        "from scipy.stats import mode\n",
        "\n",
        "# Load data dan normalisasi\n",
        "iris = load_iris()\n",
        "X = iris.data\n",
        "y = iris.target\n",
        "X = StandardScaler().fit_transform(X)\n",
        "\n",
        "# Buat kernel RBF\n",
        "gamma = 0.2\n",
        "K = rbf_kernel(X, gamma=gamma)\n",
        "\n",
        "# Kernel KMeans manual\n",
        "def kernel_kmeans(K, n_clusters, max_iter=100):\n",
        "    n_samples = K.shape[0]\n",
        "    labels = np.random.randint(0, n_clusters, size=n_samples)\n",
        "\n",
        "    for _ in range(max_iter):\n",
        "        dist = np.zeros((n_samples, n_clusters))\n",
        "        for j in range(n_clusters):\n",
        "            idx = labels == j\n",
        "            Nj = np.sum(idx)\n",
        "            if Nj == 0:\n",
        "                continue\n",
        "            K_j = K[idx][:, idx]\n",
        "            dist[:, j] = np.diag(K) - 2 * np.mean(K[:, idx], axis=1) + np.mean(K_j)\n",
        "\n",
        "        new_labels = np.argmin(dist, axis=1)\n",
        "        if np.all(labels == new_labels):\n",
        "            break\n",
        "        labels = new_labels\n",
        "    return labels\n",
        "\n",
        "# Jalankan kernel KMeans\n",
        "n_clusters = 3\n",
        "y_pred = kernel_kmeans(K, n_clusters)\n",
        "\n",
        "# Mapping cluster → label asli\n",
        "label_map = np.zeros(n_clusters, dtype=int)\n",
        "for i in range(n_clusters):\n",
        "    mask = (y_pred == i)\n",
        "    if np.any(mask):\n",
        "        label_map[i] = mode(y[mask], keepdims=True).mode[0]\n",
        "\n",
        "y_pred_final = np.array([label_map[c] for c in y_pred])\n",
        "\n",
        "# Evaluasi akurasi\n",
        "print(\"Akurasi:\", accuracy_score(y, y_pred_final))\n"
      ],
      "metadata": {
        "id": "1ebmD6qJemgG",
        "colab": {
          "base_uri": "https://localhost:8080/"
        },
        "outputId": "18f6c65c-580d-4893-a58a-ffcf297e61ed"
      },
      "execution_count": null,
      "outputs": [
        {
          "output_type": "stream",
          "name": "stdout",
          "text": [
            "Akurasi: 0.8333333333333334\n"
          ]
        }
      ]
    }
  ]
}